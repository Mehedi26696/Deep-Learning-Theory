{
 "cells": [
  {
   "cell_type": "markdown",
   "id": "fa799489-8c25-432e-b6dd-12f7cd049fba",
   "metadata": {},
   "source": [
    "<center><h1 style=\"color:green\">Binary Cross Entropy</center>"
   ]
  },
  {
   "cell_type": "code",
   "execution_count": 1,
   "id": "26b32701-ad5a-4e7c-b748-d9bcec45eef6",
   "metadata": {},
   "outputs": [],
   "source": [
    "import numpy as np\n",
    "import tensorflow as tf"
   ]
  },
  {
   "cell_type": "code",
   "execution_count": 2,
   "id": "cdbc5433-22b8-46c2-b8d4-e7eb46ce1189",
   "metadata": {},
   "outputs": [],
   "source": [
    "y_pred = np.array([1,1,0,0,1])\n",
    "y_true = np.array([0.30,0.7,1,0,0.5])"
   ]
  },
  {
   "cell_type": "markdown",
   "id": "6958787e-a292-4bf5-bd67-08f07ccaa40c",
   "metadata": {},
   "source": [
    "<b>Python Implementation"
   ]
  },
  {
   "cell_type": "code",
   "execution_count": 3,
   "id": "dcfe4ac9-6202-4235-8145-2b8f968d2719",
   "metadata": {},
   "outputs": [
    {
     "name": "stderr",
     "output_type": "stream",
     "text": [
      "C:\\Users\\Hp\\AppData\\Local\\Temp\\ipykernel_3784\\262464415.py:1: RuntimeWarning: divide by zero encountered in log\n",
      "  np.log([0])\n"
     ]
    },
    {
     "data": {
      "text/plain": [
       "array([-inf])"
      ]
     },
     "execution_count": 3,
     "metadata": {},
     "output_type": "execute_result"
    }
   ],
   "source": [
    "np.log([0])"
   ]
  },
  {
   "cell_type": "code",
   "execution_count": 4,
   "id": "2f6e3e57-8c38-44e9-97e2-6c494235f63e",
   "metadata": {},
   "outputs": [],
   "source": [
    "# tensorflow use this for cliping\n",
    "epsilon = 1e-7 "
   ]
  },
  {
   "cell_type": "code",
   "execution_count": 5,
   "id": "f1604708-87bb-4e8a-ad49-8b1cc6ffedf0",
   "metadata": {},
   "outputs": [
    {
     "data": {
      "text/plain": [
       "array([-16.11809565])"
      ]
     },
     "execution_count": 5,
     "metadata": {},
     "output_type": "execute_result"
    }
   ],
   "source": [
    "np.log([1e-7])"
   ]
  },
  {
   "cell_type": "code",
   "execution_count": 6,
   "id": "9fcbe758-5713-4122-8d01-59d668e38ecd",
   "metadata": {},
   "outputs": [
    {
     "data": {
      "text/plain": [
       "array([1, 1, 0, 0, 1])"
      ]
     },
     "execution_count": 6,
     "metadata": {},
     "output_type": "execute_result"
    }
   ],
   "source": [
    "y_pred"
   ]
  },
  {
   "cell_type": "code",
   "execution_count": 7,
   "id": "fe409646-a795-42c9-a992-864df16dacf2",
   "metadata": {},
   "outputs": [
    {
     "data": {
      "text/plain": [
       "[1, 1, 1e-07, 1e-07, 1]"
      ]
     },
     "execution_count": 7,
     "metadata": {},
     "output_type": "execute_result"
    }
   ],
   "source": [
    "y_predicted_new = [max(i,epsilon) for i in y_pred]\n",
    "y_predicted_new"
   ]
  },
  {
   "cell_type": "code",
   "execution_count": 8,
   "id": "e1bf9337-a2d0-441f-a408-6ab2711c1d06",
   "metadata": {},
   "outputs": [
    {
     "data": {
      "text/plain": [
       "0.9999999"
      ]
     },
     "execution_count": 8,
     "metadata": {},
     "output_type": "execute_result"
    }
   ],
   "source": [
    "1-epsilon"
   ]
  },
  {
   "cell_type": "code",
   "execution_count": 9,
   "id": "981fc58e-f2cb-40e4-885f-f2af0a09e6ff",
   "metadata": {},
   "outputs": [
    {
     "data": {
      "text/plain": [
       "[0.9999999, 0.9999999, 1e-07, 1e-07, 0.9999999]"
      ]
     },
     "execution_count": 9,
     "metadata": {},
     "output_type": "execute_result"
    }
   ],
   "source": [
    "y_predicted_new = [min(i,1-epsilon) for i in y_predicted_new]\n",
    "y_predicted_new"
   ]
  },
  {
   "cell_type": "code",
   "execution_count": 10,
   "id": "5a213a8b-8f71-4e25-8de9-c3e76c958443",
   "metadata": {},
   "outputs": [],
   "source": [
    "y_predicted_new = np.array(y_predicted_new)"
   ]
  },
  {
   "cell_type": "code",
   "execution_count": 11,
   "id": "8a6c4f6f-28dd-4503-bc4f-40b2b4e39dbf",
   "metadata": {},
   "outputs": [
    {
     "data": {
      "text/plain": [
       "array([-1.00000005e-07, -1.00000005e-07, -1.61180957e+01, -1.61180957e+01,\n",
       "       -1.00000005e-07])"
      ]
     },
     "execution_count": 11,
     "metadata": {},
     "output_type": "execute_result"
    }
   ],
   "source": [
    "np.log(y_predicted_new)"
   ]
  },
  {
   "cell_type": "code",
   "execution_count": 12,
   "id": "db246fe4-8940-4d84-b6f5-d7cf42445ff4",
   "metadata": {},
   "outputs": [
    {
     "data": {
      "text/plain": [
       "8.059047875637068"
      ]
     },
     "execution_count": 12,
     "metadata": {},
     "output_type": "execute_result"
    }
   ],
   "source": [
    "-np.mean(y_true*np.log(y_predicted_new)+(1-y_true)*np.log(1-y_predicted_new))"
   ]
  },
  {
   "cell_type": "code",
   "execution_count": 13,
   "id": "e4545f1b-8bfd-41a2-91d9-5710b2212102",
   "metadata": {},
   "outputs": [],
   "source": [
    "def log_loss(y_true, y_predicted):\n",
    "    y_predicted_new = [max(i,epsilon) for i in y_predicted]\n",
    "    y_predicted_new = [min(i,1-epsilon) for i in y_predicted_new]\n",
    "    y_predicted_new = np.array(y_predicted_new)\n",
    "    return -np.mean(y_true*np.log(y_predicted_new)+(1-y_true)*np.log(1-y_predicted_new))"
   ]
  },
  {
   "cell_type": "code",
   "execution_count": 14,
   "id": "dae52637-7d4e-4687-9a81-1c7e88649063",
   "metadata": {},
   "outputs": [
    {
     "data": {
      "text/plain": [
       "8.059047875637068"
      ]
     },
     "execution_count": 14,
     "metadata": {},
     "output_type": "execute_result"
    }
   ],
   "source": [
    "log_loss(y_true, y_pred)"
   ]
  },
  {
   "cell_type": "markdown",
   "id": "1672d9fa-f769-465d-9d99-3c82112ee6c3",
   "metadata": {},
   "source": [
    "<b>TensorFlow Implementation"
   ]
  },
  {
   "cell_type": "code",
   "execution_count": 15,
   "id": "cdf5fc6b-f6da-4770-9d19-e8639d1226bc",
   "metadata": {},
   "outputs": [
    {
     "name": "stdout",
     "output_type": "stream",
     "text": [
      "Binary Crossentropy: 8.006334\n"
     ]
    }
   ],
   "source": [
    "loss = tf.keras.losses.BinaryCrossentropy()\n",
    "result = loss(y_true, y_pred)\n",
    "print(\"Binary Crossentropy:\", result.numpy())"
   ]
  },
  {
   "cell_type": "code",
   "execution_count": null,
   "id": "78f4ffee-1d86-4ef1-83a8-6ad7d804acda",
   "metadata": {},
   "outputs": [],
   "source": []
  }
 ],
 "metadata": {
  "kernelspec": {
   "display_name": "Python 3 (ipykernel)",
   "language": "python",
   "name": "python3"
  },
  "language_info": {
   "codemirror_mode": {
    "name": "ipython",
    "version": 3
   },
   "file_extension": ".py",
   "mimetype": "text/x-python",
   "name": "python",
   "nbconvert_exporter": "python",
   "pygments_lexer": "ipython3",
   "version": "3.12.2"
  }
 },
 "nbformat": 4,
 "nbformat_minor": 5
}
