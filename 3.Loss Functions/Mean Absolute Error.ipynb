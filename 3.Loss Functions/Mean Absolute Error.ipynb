{
 "cells": [
  {
   "cell_type": "markdown",
   "id": "dcad8bc4-882b-4bd8-a1ad-0b0c4b1ba9e7",
   "metadata": {},
   "source": [
    "<center><h1 style=\"color:green\">Mean Absolute Error(MAE)</center>"
   ]
  },
  {
   "cell_type": "code",
   "execution_count": 1,
   "id": "31161d85-ea5c-4cf4-8643-a1156c39c072",
   "metadata": {},
   "outputs": [],
   "source": [
    "import numpy as np\n",
    "import tensorflow as tf"
   ]
  },
  {
   "cell_type": "code",
   "execution_count": 2,
   "id": "db2c7233-402f-47a1-8c36-cf336da21812",
   "metadata": {},
   "outputs": [],
   "source": [
    "y_pred = np.array([1,1,0,0,1])\n",
    "y_true = np.array([0.30,0.7,1,0,0.5])"
   ]
  },
  {
   "cell_type": "markdown",
   "id": "e51e669f-ef71-4130-9095-25443e01f6c9",
   "metadata": {},
   "source": [
    "<b>Python Implementation"
   ]
  },
  {
   "cell_type": "code",
   "execution_count": 4,
   "id": "b122d0c5-86eb-43b4-bfec-c8fdf627c868",
   "metadata": {},
   "outputs": [
    {
     "name": "stdout",
     "output_type": "stream",
     "text": [
      "Total error is: 2.5\n",
      "Mean absolute error is: 0.5\n"
     ]
    },
    {
     "data": {
      "text/plain": [
       "0.5"
      ]
     },
     "execution_count": 4,
     "metadata": {},
     "output_type": "execute_result"
    }
   ],
   "source": [
    "def mae(y_pred, y_true):\n",
    "    total_error = 0\n",
    "    for yp, yt in zip(y_pred, y_true):\n",
    "        total_error += abs(yp - yt)\n",
    "    print(\"Total error is:\",total_error)\n",
    "    mae = total_error/len(y_pred)\n",
    "    print(\"Mean absolute error is:\",mae)\n",
    "    return mae\n",
    "\n",
    "mae(y_pred, y_true)"
   ]
  },
  {
   "cell_type": "markdown",
   "id": "4a89bea7-09d1-416e-bd0c-bd0b36954d02",
   "metadata": {},
   "source": [
    "<b>Using Numpy"
   ]
  },
  {
   "cell_type": "code",
   "execution_count": 5,
   "id": "91455eca-ae53-4ecf-8258-6e40261e8f91",
   "metadata": {},
   "outputs": [
    {
     "data": {
      "text/plain": [
       "array([0.7, 0.3, 1. , 0. , 0.5])"
      ]
     },
     "execution_count": 5,
     "metadata": {},
     "output_type": "execute_result"
    }
   ],
   "source": [
    "np.abs(y_pred-y_true)"
   ]
  },
  {
   "cell_type": "code",
   "execution_count": 6,
   "id": "d2c992e5-2fac-4f5e-b800-cef485fbb95e",
   "metadata": {},
   "outputs": [
    {
     "data": {
      "text/plain": [
       "0.5"
      ]
     },
     "execution_count": 6,
     "metadata": {},
     "output_type": "execute_result"
    }
   ],
   "source": [
    "np.mean(np.abs(y_pred-y_true))"
   ]
  },
  {
   "cell_type": "code",
   "execution_count": 7,
   "id": "ae49b645-70c7-4470-82d9-3059f3fbfe6a",
   "metadata": {},
   "outputs": [
    {
     "data": {
      "text/plain": [
       "0.5"
      ]
     },
     "execution_count": 7,
     "metadata": {},
     "output_type": "execute_result"
    }
   ],
   "source": [
    "def mae_np(y_pred, y_true):\n",
    "    return np.mean(np.abs(y_pred-y_true))\n",
    "mae_np(y_pred, y_true)"
   ]
  },
  {
   "cell_type": "markdown",
   "id": "f0977685-a43d-4b4d-b79e-5ea90205e0de",
   "metadata": {},
   "source": [
    "<b>TensorFlow Implementation"
   ]
  },
  {
   "cell_type": "code",
   "execution_count": 3,
   "id": "091a3fdf-6d44-49a8-a565-8155c7fd4957",
   "metadata": {},
   "outputs": [
    {
     "name": "stdout",
     "output_type": "stream",
     "text": [
      "MAE: 0.5\n"
     ]
    }
   ],
   "source": [
    "loss = tf.keras.losses.MeanAbsoluteError()\n",
    "result = loss(y_true, y_pred)\n",
    "print(\"MAE:\", result.numpy())"
   ]
  },
  {
   "cell_type": "code",
   "execution_count": null,
   "id": "ce7c02ee-cdcb-4edd-954a-17d8c1cf9147",
   "metadata": {},
   "outputs": [],
   "source": []
  }
 ],
 "metadata": {
  "kernelspec": {
   "display_name": "Python 3 (ipykernel)",
   "language": "python",
   "name": "python3"
  },
  "language_info": {
   "codemirror_mode": {
    "name": "ipython",
    "version": 3
   },
   "file_extension": ".py",
   "mimetype": "text/x-python",
   "name": "python",
   "nbconvert_exporter": "python",
   "pygments_lexer": "ipython3",
   "version": "3.12.2"
  }
 },
 "nbformat": 4,
 "nbformat_minor": 5
}
