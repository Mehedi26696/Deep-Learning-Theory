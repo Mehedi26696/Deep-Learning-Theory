{
 "cells": [
  {
   "cell_type": "markdown",
   "id": "94ab1e85-0f20-424c-8aa8-f00ecd3daaf0",
   "metadata": {},
   "source": [
    "<center><h1 style=\"color:green\">Categorical Cross Entropy</center>"
   ]
  },
  {
   "cell_type": "code",
   "execution_count": 1,
   "id": "0a300433-ad1b-4664-a58e-c4ab74d8053b",
   "metadata": {},
   "outputs": [],
   "source": [
    "import math\n",
    "import numpy as np\n",
    "import tensorflow as tf"
   ]
  },
  {
   "cell_type": "markdown",
   "id": "8d06f712-bb2a-41b7-ae4b-78b4d7cab379",
   "metadata": {},
   "source": [
    "<b>Python Implementation"
   ]
  },
  {
   "cell_type": "code",
   "execution_count": 2,
   "id": "846c6453-caa4-479c-a20b-478478db3929",
   "metadata": {},
   "outputs": [
    {
     "name": "stdout",
     "output_type": "stream",
     "text": [
      "Categorical Crossentropy: 0.1928312404059923\n"
     ]
    }
   ],
   "source": [
    "def categorical_crossentropy(y_true, y_pred):\n",
    "    n = len(y_true)\n",
    "    sum = 0\n",
    "    for i in range(n):\n",
    "        for j in range(len(y_true[i])):\n",
    "            sum+=y_true[i][j] * math.log(y_pred[i][j])\n",
    "    return -sum / n\n",
    "\n",
    "y_true = [[0, 1, 0], [0, 0, 1]]\n",
    "y_pred = [[0.1, 0.8, 0.1], [0.05, 0.1, 0.85]]\n",
    "result = categorical_crossentropy(y_true, y_pred)\n",
    "print(\"Categorical Crossentropy:\", result)"
   ]
  },
  {
   "cell_type": "markdown",
   "id": "34fb7a90-d0bd-4bec-bf1b-e0853ae37b4c",
   "metadata": {},
   "source": [
    "<b>TensorFlow Implementation"
   ]
  },
  {
   "cell_type": "code",
   "execution_count": 3,
   "id": "cefa3eb8-f9e7-4024-8790-9304eb049fd6",
   "metadata": {},
   "outputs": [
    {
     "name": "stdout",
     "output_type": "stream",
     "text": [
      "Categorical Crossentropy: 0.19283122\n"
     ]
    }
   ],
   "source": [
    "y_true = tf.constant([[0, 1, 0], [0, 0, 1]])\n",
    "y_pred = tf.constant([[0.1, 0.8, 0.1], [0.05, 0.1, 0.85]])\n",
    "loss = tf.keras.losses.CategoricalCrossentropy()\n",
    "result = loss(y_true, y_pred)\n",
    "print(\"Categorical Crossentropy:\", result.numpy())"
   ]
  },
  {
   "cell_type": "code",
   "execution_count": null,
   "id": "603e9315-c594-4a67-8adc-f25db2a52e24",
   "metadata": {},
   "outputs": [],
   "source": []
  }
 ],
 "metadata": {
  "kernelspec": {
   "display_name": "Python 3 (ipykernel)",
   "language": "python",
   "name": "python3"
  },
  "language_info": {
   "codemirror_mode": {
    "name": "ipython",
    "version": 3
   },
   "file_extension": ".py",
   "mimetype": "text/x-python",
   "name": "python",
   "nbconvert_exporter": "python",
   "pygments_lexer": "ipython3",
   "version": "3.12.2"
  }
 },
 "nbformat": 4,
 "nbformat_minor": 5
}
