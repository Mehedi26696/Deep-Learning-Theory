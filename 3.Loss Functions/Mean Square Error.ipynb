{
 "cells": [
  {
   "cell_type": "markdown",
   "id": "8c11924e-6c46-41b1-80e0-5e0cbef02ac7",
   "metadata": {},
   "source": [
    "<center><h1 style=\"color:green\">Mean Square Error(MSE)</center>"
   ]
  },
  {
   "cell_type": "markdown",
   "id": "0d428f7c-6e57-4f36-a5c5-fb0b4d3d4ea0",
   "metadata": {},
   "source": [
    "<b> Python Implementation"
   ]
  },
  {
   "cell_type": "code",
   "execution_count": 1,
   "id": "9c3a39ed-8911-46b0-bf6a-3dd6305486dd",
   "metadata": {},
   "outputs": [
    {
     "name": "stdout",
     "output_type": "stream",
     "text": [
      "MSE: 0.020000000000000035\n"
     ]
    }
   ],
   "source": [
    "def mean_squared_error(y_true, y_pred):\n",
    "    n = len(y_true)\n",
    "    sum=0\n",
    "    for i in range(n):\n",
    "        sum+=(y_true[i]-y_pred[i])**2\n",
    "    return sum/n\n",
    "\n",
    "y_true = [1.0, 2.0, 3.0]\n",
    "y_pred = [1.1, 1.9, 3.2]\n",
    "result = mean_squared_error(y_true, y_pred)\n",
    "print(\"MSE:\", result)"
   ]
  },
  {
   "cell_type": "markdown",
   "id": "af67a3d3-87e4-443e-952a-af8ddd0a5500",
   "metadata": {},
   "source": [
    "<b>Using Numpy"
   ]
  },
  {
   "cell_type": "code",
   "execution_count": 2,
   "id": "3da50242-2cac-4dd8-9809-7194f90f54f7",
   "metadata": {},
   "outputs": [
    {
     "data": {
      "text/plain": [
       "0.020000000000000035"
      ]
     },
     "execution_count": 2,
     "metadata": {},
     "output_type": "execute_result"
    }
   ],
   "source": [
    "import numpy as np\n",
    "np.mean(np.square(np.array(y_true)-np.array(y_pred)))"
   ]
  },
  {
   "cell_type": "markdown",
   "id": "9570a757-6694-4cdb-8211-e64c37e1258a",
   "metadata": {},
   "source": [
    "<b>Tensorflow Implementation"
   ]
  },
  {
   "cell_type": "code",
   "execution_count": 3,
   "id": "a8f21032-b9bf-4f15-9cce-ef1c76c4cdb3",
   "metadata": {},
   "outputs": [
    {
     "name": "stdout",
     "output_type": "stream",
     "text": [
      "MSE: 0.020000009\n"
     ]
    }
   ],
   "source": [
    " import tensorflow as tf\n",
    " y_true = tf.constant([1.0, 2.0, 3.0])\n",
    " y_pred = tf.constant([1.1, 1.9, 3.2])\n",
    " loss = tf.keras.losses.MeanSquaredError()\n",
    " result = loss(y_true, y_pred)\n",
    " print(\"MSE:\", result.numpy())"
   ]
  }
 ],
 "metadata": {
  "kernelspec": {
   "display_name": "Python 3 (ipykernel)",
   "language": "python",
   "name": "python3"
  },
  "language_info": {
   "codemirror_mode": {
    "name": "ipython",
    "version": 3
   },
   "file_extension": ".py",
   "mimetype": "text/x-python",
   "name": "python",
   "nbconvert_exporter": "python",
   "pygments_lexer": "ipython3",
   "version": "3.12.2"
  }
 },
 "nbformat": 4,
 "nbformat_minor": 5
}
