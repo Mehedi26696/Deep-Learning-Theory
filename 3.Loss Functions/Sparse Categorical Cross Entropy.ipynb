{
 "cells": [
  {
   "cell_type": "markdown",
   "id": "9b3d4cc0-d2c2-43ad-9d79-6815b69fa768",
   "metadata": {},
   "source": [
    "<center><h1 style=\"color:green\">Sparse Categorical Crossentropy</center>"
   ]
  },
  {
   "cell_type": "code",
   "execution_count": 1,
   "id": "77bea295-442f-42fe-b600-2128d27a856f",
   "metadata": {},
   "outputs": [],
   "source": [
    "import math\n",
    "import numpy as np\n",
    "import tensorflow as tf"
   ]
  },
  {
   "cell_type": "markdown",
   "id": "24d11ee6-bd72-4c72-9d92-ae9471bfb1e5",
   "metadata": {},
   "source": [
    "<b>Python Implementation"
   ]
  },
  {
   "cell_type": "code",
   "execution_count": 2,
   "id": "d56b5e0d-958d-4843-846d-d9e70c327ec7",
   "metadata": {},
   "outputs": [
    {
     "name": "stdout",
     "output_type": "stream",
     "text": [
      "Sparse Categorical Crossentropy: 0.1928312404059923\n"
     ]
    }
   ],
   "source": [
    "def sparse_categorical_crossentropy(y_true, y_pred):\n",
    "    n = len(y_true)\n",
    "    loss = 0\n",
    "    for i in range(n):\n",
    "        loss -= math.log(y_pred[i][y_true[i]])\n",
    "    return loss / n\n",
    "\n",
    "y_true = [1, 2]\n",
    "y_pred = [[0.1, 0.8, 0.1], [0.05, 0.1, 0.85]]\n",
    "result = sparse_categorical_crossentropy(y_true, y_pred)\n",
    "print(\"Sparse Categorical Crossentropy:\", result)"
   ]
  },
  {
   "cell_type": "markdown",
   "id": "634df2c3-9678-4938-a8e0-86cd54445d75",
   "metadata": {},
   "source": [
    "<b>Tensorflow Implementation"
   ]
  },
  {
   "cell_type": "code",
   "execution_count": 3,
   "id": "e13760c3-93d3-48f1-8938-80520d8a48b0",
   "metadata": {},
   "outputs": [
    {
     "name": "stdout",
     "output_type": "stream",
     "text": [
      "Loss: 0.19283126\n"
     ]
    }
   ],
   "source": [
    "y_true = tf.constant([1, 2], dtype=tf.int32)   \n",
    "y_pred = tf.constant([[0.1, 0.8, 0.1], [0.05, 0.1, 0.85]], dtype=tf.float32)   \n",
    "loss = tf.keras.losses.SparseCategoricalCrossentropy(from_logits=False)\n",
    "loss_value = loss(y_true, y_pred)\n",
    "print(\"Loss:\", loss_value.numpy())"
   ]
  },
  {
   "cell_type": "code",
   "execution_count": null,
   "id": "cb153a1d-148e-4aad-a854-0f497fd6fa30",
   "metadata": {},
   "outputs": [],
   "source": []
  }
 ],
 "metadata": {
  "kernelspec": {
   "display_name": "Python 3 (ipykernel)",
   "language": "python",
   "name": "python3"
  },
  "language_info": {
   "codemirror_mode": {
    "name": "ipython",
    "version": 3
   },
   "file_extension": ".py",
   "mimetype": "text/x-python",
   "name": "python",
   "nbconvert_exporter": "python",
   "pygments_lexer": "ipython3",
   "version": "3.12.2"
  }
 },
 "nbformat": 4,
 "nbformat_minor": 5
}
