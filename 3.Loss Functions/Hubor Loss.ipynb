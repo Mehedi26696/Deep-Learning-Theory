{
 "cells": [
  {
   "cell_type": "markdown",
   "id": "24c6678e-932c-4135-b78b-23f7f0a9ec4c",
   "metadata": {},
   "source": [
    "<center><h1 style=\"color:green\">Hubor Loss</center>"
   ]
  },
  {
   "cell_type": "code",
   "execution_count": 2,
   "id": "66fc8749-82de-4b97-b602-a0e88c3ef721",
   "metadata": {},
   "outputs": [],
   "source": [
    "import numpy as np\n",
    "import tensorflow as tf"
   ]
  },
  {
   "cell_type": "code",
   "execution_count": 3,
   "id": "63e4593a-9bff-4ea7-8e0a-d80e7e2c1985",
   "metadata": {},
   "outputs": [],
   "source": [
    "y_pred = np.array([1,1,0,0,1])\n",
    "y_true = np.array([0.30,0.7,1,0,0.5])"
   ]
  },
  {
   "cell_type": "markdown",
   "id": "676e08e9-9980-4c67-91e0-ff314a934260",
   "metadata": {},
   "source": [
    "<b>Python Implementation"
   ]
  },
  {
   "cell_type": "code",
   "execution_count": 4,
   "id": "a1b1e700-9adc-4572-8848-50b41373f882",
   "metadata": {},
   "outputs": [
    {
     "name": "stdout",
     "output_type": "stream",
     "text": [
      "Huber Loss: 0.183\n"
     ]
    }
   ],
   "source": [
    "def huber_loss(y_true, y_pred, delta=1.0):\n",
    "    n = len(y_true)\n",
    "    loss = 0\n",
    "    for i in range(n):\n",
    "        diff = y_true[i] - y_pred[i]\n",
    "        if abs(diff) <= delta:\n",
    "            loss += 0.5 * diff**2\n",
    "        else:\n",
    "            loss += delta * (abs(diff) - 0.5 * delta)\n",
    "    return loss / n\n",
    "\n",
    "result = huber_loss(y_true, y_pred, delta=1.0)\n",
    "print(\"Huber Loss:\", result)"
   ]
  },
  {
   "cell_type": "markdown",
   "id": "37056502-4df7-4adb-a74e-e8258ba4071b",
   "metadata": {},
   "source": [
    "<b>TensorFlow Implementation"
   ]
  },
  {
   "cell_type": "code",
   "execution_count": 5,
   "id": "76f66dab-be55-43fa-8019-bb15fe13f9a0",
   "metadata": {},
   "outputs": [
    {
     "name": "stdout",
     "output_type": "stream",
     "text": [
      "Huber Loss: 0.183\n"
     ]
    }
   ],
   "source": [
    "delta = 1.0\n",
    "loss = tf.keras.losses.Huber(delta=delta)\n",
    "result = loss(y_true, y_pred)\n",
    "print(\"Huber Loss:\", result.numpy())"
   ]
  }
 ],
 "metadata": {
  "kernelspec": {
   "display_name": "Python 3 (ipykernel)",
   "language": "python",
   "name": "python3"
  },
  "language_info": {
   "codemirror_mode": {
    "name": "ipython",
    "version": 3
   },
   "file_extension": ".py",
   "mimetype": "text/x-python",
   "name": "python",
   "nbconvert_exporter": "python",
   "pygments_lexer": "ipython3",
   "version": "3.12.2"
  }
 },
 "nbformat": 4,
 "nbformat_minor": 5
}
