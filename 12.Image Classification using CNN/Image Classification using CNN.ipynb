{
 "cells": [
  {
   "cell_type": "markdown",
   "id": "63d89f19-4fc0-4728-802b-e59ec9be3b26",
   "metadata": {},
   "source": [
    "<center><h1 style=\"color:green\">Image Classification Using Convolutional Neural Network (CNN)</center>"
   ]
  },
  {
   "cell_type": "markdown",
   "id": "45056243-86ad-401c-ad6f-dd540a292b31",
   "metadata": {},
   "source": [
    "<img src=\"small_images.jpg\">"
   ]
  },
  {
   "cell_type": "code",
   "execution_count": 1,
   "id": "3ba63f4a-392d-40cc-824c-fd009701c959",
   "metadata": {},
   "outputs": [],
   "source": [
    "import numpy as np\n",
    "import matplotlib.pyplot as plt\n",
    "import tensorflow as tf\n",
    "from tensorflow.keras import datasets,layers,models"
   ]
  },
  {
   "cell_type": "markdown",
   "id": "d28654c9-6e09-4330-a373-df3e18ee9068",
   "metadata": {},
   "source": [
    "<b> Loading CIFAR10 dataset"
   ]
  },
  {
   "cell_type": "code",
   "execution_count": 2,
   "id": "0d3ecd7e-806b-44fc-a6db-d0453a1574c3",
   "metadata": {},
   "outputs": [],
   "source": [
    "(X_train,y_train),(X_test,y_test) = datasets.cifar10.load_data()"
   ]
  },
  {
   "cell_type": "code",
   "execution_count": 3,
   "id": "7813e47f-59d4-4fb7-bd58-dba13cce6ef7",
   "metadata": {},
   "outputs": [
    {
     "data": {
      "text/plain": [
       "(50000, 32, 32, 3)"
      ]
     },
     "execution_count": 3,
     "metadata": {},
     "output_type": "execute_result"
    }
   ],
   "source": [
    "X_train.shape"
   ]
  },
  {
   "cell_type": "code",
   "execution_count": 4,
   "id": "ddfb6ec4-24d7-47c3-96d9-66f20ba5f558",
   "metadata": {},
   "outputs": [
    {
     "data": {
      "text/plain": [
       "(10000, 32, 32, 3)"
      ]
     },
     "execution_count": 4,
     "metadata": {},
     "output_type": "execute_result"
    }
   ],
   "source": [
    "X_test.shape"
   ]
  },
  {
   "cell_type": "code",
   "execution_count": 5,
   "id": "920917b4-0423-45c4-957a-1fb77b751d6a",
   "metadata": {},
   "outputs": [
    {
     "data": {
      "text/plain": [
       "array([[[170, 180, 198],\n",
       "        [168, 178, 196],\n",
       "        [177, 185, 203],\n",
       "        ...,\n",
       "        [162, 179, 215],\n",
       "        [158, 178, 214],\n",
       "        [157, 177, 212]],\n",
       "\n",
       "       [[168, 181, 198],\n",
       "        [172, 185, 201],\n",
       "        [171, 183, 200],\n",
       "        ...,\n",
       "        [159, 177, 212],\n",
       "        [156, 176, 211],\n",
       "        [154, 174, 209]],\n",
       "\n",
       "       [[154, 170, 186],\n",
       "        [149, 165, 181],\n",
       "        [129, 144, 162],\n",
       "        ...,\n",
       "        [161, 178, 214],\n",
       "        [157, 177, 212],\n",
       "        [154, 174, 209]],\n",
       "\n",
       "       ...,\n",
       "\n",
       "       [[ 74,  84,  80],\n",
       "        [ 76,  85,  81],\n",
       "        [ 78,  85,  82],\n",
       "        ...,\n",
       "        [ 71,  75,  78],\n",
       "        [ 68,  72,  75],\n",
       "        [ 61,  65,  68]],\n",
       "\n",
       "       [[ 68,  76,  77],\n",
       "        [ 69,  77,  78],\n",
       "        [ 72,  79,  78],\n",
       "        ...,\n",
       "        [ 76,  80,  83],\n",
       "        [ 71,  75,  78],\n",
       "        [ 71,  75,  78]],\n",
       "\n",
       "       [[ 67,  75,  78],\n",
       "        [ 68,  76,  79],\n",
       "        [ 69,  75,  76],\n",
       "        ...,\n",
       "        [ 75,  79,  82],\n",
       "        [ 71,  75,  78],\n",
       "        [ 73,  77,  80]]], dtype=uint8)"
      ]
     },
     "execution_count": 5,
     "metadata": {},
     "output_type": "execute_result"
    }
   ],
   "source": [
    "X_train[4]"
   ]
  },
  {
   "cell_type": "code",
   "execution_count": 6,
   "id": "7850fdec-8f80-4b47-a1f2-193a943cfbfa",
   "metadata": {},
   "outputs": [
    {
     "data": {
      "text/plain": [
       "(50000, 1)"
      ]
     },
     "execution_count": 6,
     "metadata": {},
     "output_type": "execute_result"
    }
   ],
   "source": [
    "y_train.shape"
   ]
  },
  {
   "cell_type": "code",
   "execution_count": 7,
   "id": "5c096848-ba3c-4b67-a2ea-c430d9c72187",
   "metadata": {},
   "outputs": [
    {
     "data": {
      "text/plain": [
       "array([[6],\n",
       "       [9],\n",
       "       [9],\n",
       "       [4],\n",
       "       [1]], dtype=uint8)"
      ]
     },
     "execution_count": 7,
     "metadata": {},
     "output_type": "execute_result"
    }
   ],
   "source": [
    "y_train[:5]"
   ]
  },
  {
   "cell_type": "code",
   "execution_count": 8,
   "id": "d6d58039-355d-4f5f-bf87-7161cd201438",
   "metadata": {},
   "outputs": [],
   "source": [
    "y_train = y_train.reshape(-1,)"
   ]
  },
  {
   "cell_type": "code",
   "execution_count": 9,
   "id": "d4fc5f6c-7be6-4382-9f15-febe5ee5b5f3",
   "metadata": {},
   "outputs": [
    {
     "data": {
      "text/plain": [
       "array([6, 9, 9, 4, 1], dtype=uint8)"
      ]
     },
     "execution_count": 9,
     "metadata": {},
     "output_type": "execute_result"
    }
   ],
   "source": [
    "y_train[:5]"
   ]
  },
  {
   "cell_type": "markdown",
   "id": "56218a83-7705-4352-bbd0-da2d059b6f58",
   "metadata": {},
   "source": [
    "<b>Image showing"
   ]
  },
  {
   "cell_type": "code",
   "execution_count": 10,
   "id": "08405f48-186d-45ea-b67b-255e5709ebdc",
   "metadata": {},
   "outputs": [
    {
     "data": {
      "text/plain": [
       "<matplotlib.image.AxesImage at 0x258fb948440>"
      ]
     },
     "execution_count": 10,
     "metadata": {},
     "output_type": "execute_result"
    },
    {
     "data": {
      "image/png": "[encoded data removed]",
      "text/plain": [
       "<Figure size 1000x200 with 1 Axes>"
      ]
     },
     "metadata": {},
     "output_type": "display_data"
    }
   ],
   "source": [
    "plt.figure(figsize = (10,2))\n",
    "plt.imshow(X_train[4])"
   ]
  },
  {
   "cell_type": "code",
   "execution_count": 11,
   "id": "fcb03c20-67c9-4e56-ae0a-d4d01845fa62",
   "metadata": {},
   "outputs": [
    {
     "data": {
      "text/plain": [
       "<matplotlib.image.AxesImage at 0x2588d034fe0>"
      ]
     },
     "execution_count": 11,
     "metadata": {},
     "output_type": "execute_result"
    },
    {
     "data": {
      "image/png": "[encoded data removed]",
      "text/plain": [
       "<Figure size 1000x200 with 1 Axes>"
      ]
     },
     "metadata": {},
     "output_type": "display_data"
    }
   ],
   "source": [
    "plt.figure(figsize = (10,2))\n",
    "plt.imshow(X_train[6])"
   ]
  },
  {
   "cell_type": "code",
   "execution_count": 12,
   "id": "d6bd00be-5054-4689-884b-895ab1f92905",
   "metadata": {},
   "outputs": [],
   "source": [
    "classes = [\"airplane\",\"automobile\",\"bird\",\"cat\",\"deer\",\"dog\",\"frog\",\"horse\",\"ship\",\"truck\"]"
   ]
  },
  {
   "cell_type": "code",
   "execution_count": 13,
   "id": "f6ca3b6f-5dc4-4bc9-9695-b8fdf745729e",
   "metadata": {},
   "outputs": [
    {
     "data": {
      "text/plain": [
       "'bird'"
      ]
     },
     "execution_count": 13,
     "metadata": {},
     "output_type": "execute_result"
    }
   ],
   "source": [
    "classes[2]"
   ]
  },
  {
   "cell_type": "code",
   "execution_count": 14,
   "id": "36de2dbb-9765-4cfb-8dba-a72ef1c87aa7",
   "metadata": {},
   "outputs": [],
   "source": [
    "def show(X,y,index):\n",
    "    plt.figure(figsize = (10,2))\n",
    "    plt.imshow(X[index])\n",
    "    plt.xlabel(classes[y[index]])"
   ]
  },
  {
   "cell_type": "code",
   "execution_count": 15,
   "id": "44c00c08-5ffe-478b-a1b9-03c7fd36f67b",
   "metadata": {},
   "outputs": [
    {
     "data": {
      "image/png": "[encoded data removed]",
      "text/plain": [
       "<Figure size 1000x200 with 1 Axes>"
      ]
     },
     "metadata": {},
     "output_type": "display_data"
    }
   ],
   "source": [
    "show(X_train, y_train, 4)"
   ]
  },
  {
   "cell_type": "code",
   "execution_count": 16,
   "id": "26a53986-a17c-4b6e-b4df-6feb73b5a5b1",
   "metadata": {},
   "outputs": [
    {
     "data": {
      "image/png": "[encoded data removed]",
      "text/plain": [
       "<Figure size 1000x200 with 1 Axes>"
      ]
     },
     "metadata": {},
     "output_type": "display_data"
    }
   ],
   "source": [
    "show(X_train, y_train, 6)"
   ]
  },
  {
   "cell_type": "markdown",
   "id": "c224dd9e-4fb6-498e-a406-4b714b357d3e",
   "metadata": {},
   "source": [
    "<b> Now scaling the dataset by dividing 255 cause it's RGB"
   ]
  },
  {
   "cell_type": "code",
   "execution_count": 17,
   "id": "53e42dec-82f0-431f-97f8-45e122022b68",
   "metadata": {},
   "outputs": [],
   "source": [
    "X_train = X_train / 255.0\n",
    "X_test = X_test / 255.0"
   ]
  },
  {
   "cell_type": "markdown",
   "id": "019dfc9e-d908-4c0b-939d-966a24d2230f",
   "metadata": {},
   "source": [
    "<b> Build ANN"
   ]
  },
  {
   "cell_type": "code",
   "execution_count": 18,
   "id": "4d6419ce-afdf-4e44-a455-b99290e2e334",
   "metadata": {},
   "outputs": [
    {
     "name": "stderr",
     "output_type": "stream",
     "text": [
      "C:\\Users\\Hp\\AppData\\Local\\Programs\\Python\\Python312\\Lib\\site-packages\\keras\\src\\layers\\reshaping\\flatten.py:37: UserWarning: Do not pass an `input_shape`/`input_dim` argument to a layer. When using Sequential models, prefer using an `Input(shape)` object as the first layer in the model instead.\n",
      "  super().__init__(**kwargs)\n"
     ]
    },
    {
     "name": "stdout",
     "output_type": "stream",
     "text": [
      "Epoch 1/5\n",
      "\u001b[1m1563/1563\u001b[0m \u001b[32m━━━━━━━━━━━━━━━━━━━━\u001b[0m\u001b[37m\u001b[0m \u001b[1m48s\u001b[0m 30ms/step - accuracy: 0.3026 - loss: 1.9328\n",
      "Epoch 2/5\n",
      "\u001b[1m1563/1563\u001b[0m \u001b[32m━━━━━━━━━━━━━━━━━━━━\u001b[0m\u001b[37m\u001b[0m \u001b[1m48s\u001b[0m 31ms/step - accuracy: 0.4189 - loss: 1.6464\n",
      "Epoch 3/5\n",
      "\u001b[1m1563/1563\u001b[0m \u001b[32m━━━━━━━━━━━━━━━━━━━━\u001b[0m\u001b[37m\u001b[0m \u001b[1m49s\u001b[0m 31ms/step - accuracy: 0.4510 - loss: 1.5481\n",
      "Epoch 4/5\n",
      "\u001b[1m1563/1563\u001b[0m \u001b[32m━━━━━━━━━━━━━━━━━━━━\u001b[0m\u001b[37m\u001b[0m \u001b[1m50s\u001b[0m 32ms/step - accuracy: 0.4750 - loss: 1.4929\n",
      "Epoch 5/5\n",
      "\u001b[1m1563/1563\u001b[0m \u001b[32m━━━━━━━━━━━━━━━━━━━━\u001b[0m\u001b[37m\u001b[0m \u001b[1m51s\u001b[0m 32ms/step - accuracy: 0.4919 - loss: 1.4407\n"
     ]
    },
    {
     "data": {
      "text/plain": [
       "<keras.src.callbacks.history.History at 0x2588d1025a0>"
      ]
     },
     "execution_count": 18,
     "metadata": {},
     "output_type": "execute_result"
    }
   ],
   "source": [
    "ann = models.Sequential([\n",
    "        layers.Flatten(input_shape=(32,32,3)),\n",
    "        layers.Dense(3000, activation='relu'),\n",
    "        layers.Dense(1000, activation='relu'),\n",
    "        layers.Dense(10, activation='sigmoid')    \n",
    "    ])\n",
    "\n",
    "ann.compile(optimizer='SGD',\n",
    "              loss='sparse_categorical_crossentropy',\n",
    "              metrics=['accuracy'])\n",
    "\n",
    "ann.fit(X_train, y_train, epochs=5)"
   ]
  },
  {
   "cell_type": "code",
   "execution_count": 19,
   "id": "cbe1ca09-d716-4e1a-b45f-15407bd069c9",
   "metadata": {},
   "outputs": [
    {
     "name": "stdout",
     "output_type": "stream",
     "text": [
      "\u001b[1m313/313\u001b[0m \u001b[32m━━━━━━━━━━━━━━━━━━━━\u001b[0m\u001b[37m\u001b[0m \u001b[1m3s\u001b[0m 9ms/step - accuracy: 0.4604 - loss: 1.5273\n"
     ]
    },
    {
     "data": {
      "text/plain": [
       "[1.53399658203125, 0.45320001244544983]"
      ]
     },
     "execution_count": 19,
     "metadata": {},
     "output_type": "execute_result"
    }
   ],
   "source": [
    "ann.evaluate(X_test,y_test)"
   ]
  },
  {
   "cell_type": "markdown",
   "id": "b3e11418-e2bc-4db7-a8b0-12c6252ebf6a",
   "metadata": {},
   "source": [
    "<b>We can see that at the end of 5 epochs, accuracy is at around 45.32%"
   ]
  },
  {
   "cell_type": "code",
   "execution_count": 20,
   "id": "869bb782-5fc5-44df-b27e-df3cad9c3528",
   "metadata": {},
   "outputs": [
    {
     "name": "stdout",
     "output_type": "stream",
     "text": [
      "\u001b[1m313/313\u001b[0m \u001b[32m━━━━━━━━━━━━━━━━━━━━\u001b[0m\u001b[37m\u001b[0m \u001b[1m2s\u001b[0m 8ms/step\n",
      "Classification Report: \n",
      "               precision    recall  f1-score   support\n",
      "\n",
      "           0       0.61      0.45      0.52      1000\n",
      "           1       0.55      0.53      0.54      1000\n",
      "           2       0.53      0.09      0.15      1000\n",
      "           3       0.30      0.50      0.37      1000\n",
      "           4       0.45      0.40      0.42      1000\n",
      "           5       0.52      0.19      0.28      1000\n",
      "           6       0.56      0.45      0.50      1000\n",
      "           7       0.51      0.56      0.53      1000\n",
      "           8       0.61      0.57      0.59      1000\n",
      "           9       0.34      0.80      0.47      1000\n",
      "\n",
      "    accuracy                           0.45     10000\n",
      "   macro avg       0.50      0.45      0.44     10000\n",
      "weighted avg       0.50      0.45      0.44     10000\n",
      "\n"
     ]
    }
   ],
   "source": [
    "from sklearn.metrics import confusion_matrix , classification_report\n",
    "y_pred = ann.predict(X_test)\n",
    "y_pred_classes = [np.argmax(element) for element in y_pred]\n",
    "\n",
    "print(\"Classification Report: \\n\", classification_report(y_test, y_pred_classes))"
   ]
  },
  {
   "cell_type": "markdown",
   "id": "164e3e92-4031-41e7-9f28-1f41039b0171",
   "metadata": {},
   "source": [
    "<b>Now buld a CNN Model"
   ]
  },
  {
   "cell_type": "code",
   "execution_count": 24,
   "id": "b0b716b2-849f-470a-86cb-607ff2e6d45c",
   "metadata": {},
   "outputs": [],
   "source": [
    "cnn = models.Sequential([\n",
    "    #cnn\n",
    "    layers.Conv2D(filters = 32,kernel_size = (3,3),activation = 'relu',input_shape = (32,32,3)),\n",
    "    layers.MaxPooling2D((2,2)),\n",
    "\n",
    "    layers.Conv2D(filters = 64,kernel_size = (3,3),activation = 'relu'),\n",
    "    layers.MaxPooling2D((2,2)),\n",
    "    #dense\n",
    "    layers.Flatten(),\n",
    "    layers.Dense(64,activation = 'relu'),\n",
    "    layers.Dense(10,activation = 'softmax')\n",
    "])"
   ]
  },
  {
   "cell_type": "code",
   "execution_count": 26,
   "id": "84d41d21-927b-4fde-8be3-f4d5b23999fd",
   "metadata": {},
   "outputs": [],
   "source": [
    "cnn.compile(optimizer = 'adam',\n",
    "              loss = 'sparse_categorical_crossentropy',\n",
    "              metrics = ['accuracy'])"
   ]
  },
  {
   "cell_type": "code",
   "execution_count": 27,
   "id": "60b5ca36-942f-45e2-9a42-dcaed5cd6380",
   "metadata": {},
   "outputs": [
    {
     "name": "stdout",
     "output_type": "stream",
     "text": [
      "Epoch 1/10\n",
      "\u001b[1m1563/1563\u001b[0m \u001b[32m━━━━━━━━━━━━━━━━━━━━\u001b[0m\u001b[37m\u001b[0m \u001b[1m20s\u001b[0m 12ms/step - accuracy: 0.3600 - loss: 1.7513\n",
      "Epoch 2/10\n",
      "\u001b[1m1563/1563\u001b[0m \u001b[32m━━━━━━━━━━━━━━━━━━━━\u001b[0m\u001b[37m\u001b[0m \u001b[1m20s\u001b[0m 13ms/step - accuracy: 0.5879 - loss: 1.1732\n",
      "Epoch 3/10\n",
      "\u001b[1m1563/1563\u001b[0m \u001b[32m━━━━━━━━━━━━━━━━━━━━\u001b[0m\u001b[37m\u001b[0m \u001b[1m20s\u001b[0m 13ms/step - accuracy: 0.6476 - loss: 1.0164\n",
      "Epoch 4/10\n",
      "\u001b[1m1563/1563\u001b[0m \u001b[32m━━━━━━━━━━━━━━━━━━━━\u001b[0m\u001b[37m\u001b[0m \u001b[1m21s\u001b[0m 13ms/step - accuracy: 0.6740 - loss: 0.9347\n",
      "Epoch 5/10\n",
      "\u001b[1m1563/1563\u001b[0m \u001b[32m━━━━━━━━━━━━━━━━━━━━\u001b[0m\u001b[37m\u001b[0m \u001b[1m21s\u001b[0m 14ms/step - accuracy: 0.6993 - loss: 0.8653\n",
      "Epoch 6/10\n",
      "\u001b[1m1563/1563\u001b[0m \u001b[32m━━━━━━━━━━━━━━━━━━━━\u001b[0m\u001b[37m\u001b[0m \u001b[1m22s\u001b[0m 14ms/step - accuracy: 0.7235 - loss: 0.7955\n",
      "Epoch 7/10\n",
      "\u001b[1m1563/1563\u001b[0m \u001b[32m━━━━━━━━━━━━━━━━━━━━\u001b[0m\u001b[37m\u001b[0m \u001b[1m22s\u001b[0m 14ms/step - accuracy: 0.7396 - loss: 0.7481\n",
      "Epoch 8/10\n",
      "\u001b[1m1563/1563\u001b[0m \u001b[32m━━━━━━━━━━━━━━━━━━━━\u001b[0m\u001b[37m\u001b[0m \u001b[1m22s\u001b[0m 14ms/step - accuracy: 0.7526 - loss: 0.7141\n",
      "Epoch 9/10\n",
      "\u001b[1m1563/1563\u001b[0m \u001b[32m━━━━━━━━━━━━━━━━━━━━\u001b[0m\u001b[37m\u001b[0m \u001b[1m22s\u001b[0m 14ms/step - accuracy: 0.7634 - loss: 0.6809\n",
      "Epoch 10/10\n",
      "\u001b[1m1563/1563\u001b[0m \u001b[32m━━━━━━━━━━━━━━━━━━━━\u001b[0m\u001b[37m\u001b[0m \u001b[1m23s\u001b[0m 14ms/step - accuracy: 0.7746 - loss: 0.6388\n"
     ]
    },
    {
     "data": {
      "text/plain": [
       "<keras.src.callbacks.history.History at 0x258b0123f80>"
      ]
     },
     "execution_count": 27,
     "metadata": {},
     "output_type": "execute_result"
    }
   ],
   "source": [
    "cnn.fit(X_train,y_train,epochs = 10)"
   ]
  },
  {
   "cell_type": "markdown",
   "id": "3eff4446-ba0e-4974-be14-21a1d70ddf12",
   "metadata": {},
   "source": [
    "After 5 epochs, the CNN achieved an accuracy of approximately 67.40%, marking a significant improvement over the ANN. CNNs are highly effective for image classification, delivering excellent accuracy. Additionally, they are computationally more efficient than simple ANNs, as max pooling reduces image dimensions while retaining essential features."
   ]
  },
  {
   "cell_type": "code",
   "execution_count": 28,
   "id": "8dac1b79-c273-4504-bfe1-4ab1008e30d6",
   "metadata": {},
   "outputs": [
    {
     "name": "stdout",
     "output_type": "stream",
     "text": [
      "\u001b[1m313/313\u001b[0m \u001b[32m━━━━━━━━━━━━━━━━━━━━\u001b[0m\u001b[37m\u001b[0m \u001b[1m2s\u001b[0m 6ms/step - accuracy: 0.7016 - loss: 0.9367\n"
     ]
    },
    {
     "data": {
      "text/plain": [
       "[0.9494893550872803, 0.6933000087738037]"
      ]
     },
     "execution_count": 28,
     "metadata": {},
     "output_type": "execute_result"
    }
   ],
   "source": [
    "cnn.evaluate(X_test,y_test)"
   ]
  },
  {
   "cell_type": "code",
   "execution_count": 29,
   "id": "2524f1f7-17fc-42a7-b116-f658441596f4",
   "metadata": {},
   "outputs": [
    {
     "name": "stdout",
     "output_type": "stream",
     "text": [
      "\u001b[1m313/313\u001b[0m \u001b[32m━━━━━━━━━━━━━━━━━━━━\u001b[0m\u001b[37m\u001b[0m \u001b[1m1s\u001b[0m 4ms/step\n"
     ]
    },
    {
     "data": {
      "text/plain": [
       "array([[2.0388085e-03, 1.6716809e-05, 1.3467004e-03, 7.3353690e-01,\n",
       "        1.5539093e-03, 2.3772752e-01, 2.2608617e-02, 2.3084973e-05,\n",
       "        9.9891424e-04, 1.4876497e-04],\n",
       "       [2.5799263e-03, 8.2396634e-02, 2.6984391e-05, 2.8683431e-07,\n",
       "        1.3061586e-07, 1.3772449e-09, 6.1045817e-09, 5.1481017e-08,\n",
       "        9.1497958e-01, 1.6401047e-05],\n",
       "       [4.2075706e-01, 6.5814175e-02, 7.7854022e-03, 2.2528032e-03,\n",
       "        1.1203587e-03, 1.7193152e-04, 1.6755075e-03, 1.5290748e-02,\n",
       "        4.7990966e-01, 5.2223429e-03],\n",
       "       [7.6931649e-01, 1.5351899e-01, 3.3004697e-02, 9.0832252e-04,\n",
       "        9.6638163e-04, 2.1335047e-05, 2.5660763e-04, 1.0941801e-05,\n",
       "        4.0192381e-02, 1.8038653e-03],\n",
       "       [9.1557024e-07, 2.4323915e-06, 3.0626724e-02, 9.0319000e-02,\n",
       "        2.9641533e-01, 3.1708185e-02, 5.5089283e-01, 1.8940189e-05,\n",
       "        1.5650750e-05, 6.3354562e-08]], dtype=float32)"
      ]
     },
     "execution_count": 29,
     "metadata": {},
     "output_type": "execute_result"
    }
   ],
   "source": [
    "y_pred = cnn.predict(X_test)\n",
    "y_pred[:5]"
   ]
  },
  {
   "cell_type": "code",
   "execution_count": 30,
   "id": "da3fd092-4b90-4a55-88ae-04d750bdfd1c",
   "metadata": {},
   "outputs": [
    {
     "data": {
      "text/plain": [
       "[3, 8, 8, 0, 6]"
      ]
     },
     "execution_count": 30,
     "metadata": {},
     "output_type": "execute_result"
    }
   ],
   "source": [
    "y_classes = [np.argmax(element) for element in y_pred]\n",
    "y_classes[:5]"
   ]
  },
  {
   "cell_type": "code",
   "execution_count": 33,
   "id": "e6ce0917-25a7-4ea0-89f7-96478e0f6d9c",
   "metadata": {},
   "outputs": [
    {
     "data": {
      "text/plain": [
       "array([[3],\n",
       "       [8],\n",
       "       [8],\n",
       "       [0],\n",
       "       [6]], dtype=uint8)"
      ]
     },
     "execution_count": 33,
     "metadata": {},
     "output_type": "execute_result"
    }
   ],
   "source": [
    "y_test[:5]"
   ]
  },
  {
   "cell_type": "code",
   "execution_count": 34,
   "id": "f6da0e7a-3aa9-410a-9997-1bdc220333f9",
   "metadata": {},
   "outputs": [],
   "source": [
    "y_test = y_test.reshape(-1,)"
   ]
  },
  {
   "cell_type": "code",
   "execution_count": 35,
   "id": "caece2c6-2e4a-425c-9e6b-7ba7f6066e3f",
   "metadata": {},
   "outputs": [
    {
     "data": {
      "image/png": "[encoded data removed]",
      "text/plain": [
       "<Figure size 1000x200 with 1 Axes>"
      ]
     },
     "metadata": {},
     "output_type": "display_data"
    }
   ],
   "source": [
    "show(X_test, y_test,3)"
   ]
  },
  {
   "cell_type": "code",
   "execution_count": 32,
   "id": "0b97480e-785a-4f2e-99fb-a4130f63fccd",
   "metadata": {},
   "outputs": [
    {
     "data": {
      "text/plain": [
       "'airplane'"
      ]
     },
     "execution_count": 32,
     "metadata": {},
     "output_type": "execute_result"
    }
   ],
   "source": [
    "classes[y_classes[3]]"
   ]
  },
  {
   "cell_type": "code",
   "execution_count": null,
   "id": "b4377dbf-875b-433d-ac24-0a6572f347b5",
   "metadata": {},
   "outputs": [],
   "source": []
  }
 ],
 "metadata": {
  "kernelspec": {
   "display_name": "Python 3 (ipykernel)",
   "language": "python",
   "name": "python3"
  },
  "language_info": {
   "codemirror_mode": {
    "name": "ipython",
    "version": 3
   },
   "file_extension": ".py",
   "mimetype": "text/x-python",
   "name": "python",
   "nbconvert_exporter": "python",
   "pygments_lexer": "ipython3",
   "version": "3.12.2"
  }
 },
 "nbformat": 4,
 "nbformat_minor": 5
}
