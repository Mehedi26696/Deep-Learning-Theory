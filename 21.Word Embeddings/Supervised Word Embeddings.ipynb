{
 "cells": [
  {
   "cell_type": "markdown",
   "id": "d0c117c0-a4c3-43f4-b21a-3395ab8df243",
   "metadata": {},
   "source": [
    "<center><h1 style=\"color:green\">Supervised Word Embeddings</center>"
   ]
  },
  {
   "cell_type": "code",
   "execution_count": 1,
   "id": "7b4206f3-1ddd-43b0-9a57-7dd39d1e6710",
   "metadata": {},
   "outputs": [],
   "source": [
    "import numpy as np\n",
    "from tensorflow.keras.preprocessing.text import one_hot\n",
    "from tensorflow.keras.preprocessing.sequence import pad_sequences\n",
    "from tensorflow.keras.models import Sequential\n",
    "from tensorflow.keras.layers import Dense\n",
    "from tensorflow.keras.layers import Flatten\n",
    "from tensorflow.keras.layers import Embedding "
   ]
  },
  {
   "cell_type": "code",
   "execution_count": 2,
   "id": "bc3e5dd9-2ace-47b2-8c71-4ed1deb52c9b",
   "metadata": {},
   "outputs": [],
   "source": [
    "reviews = ['nice food',\n",
    "        'amazing restaurant',\n",
    "        'too good',\n",
    "        'just loved it!',\n",
    "        'will go again',\n",
    "        'horrible food',\n",
    "        'never go there',\n",
    "        'poor service',\n",
    "        'poor quality',\n",
    "        'needs improvement']\n",
    "\n",
    "sentiment = np.array([1,1,1,1,1,0,0,0,0,0])"
   ]
  },
  {
   "cell_type": "markdown",
   "id": "71777322-c60d-4144-a9d2-6a6025063406",
   "metadata": {},
   "source": [
    "<b>One Hot Encoding"
   ]
  },
  {
   "cell_type": "code",
   "execution_count": 3,
   "id": "b40cc803-af31-4ddd-aa46-97b5a9fc7da9",
   "metadata": {},
   "outputs": [
    {
     "data": {
      "text/plain": [
       "[4, 11]"
      ]
     },
     "execution_count": 3,
     "metadata": {},
     "output_type": "execute_result"
    }
   ],
   "source": [
    "one_hot(\"amazing restaurant\",30)"
   ]
  },
  {
   "cell_type": "code",
   "execution_count": 4,
   "id": "c69f9309-6eff-4270-b03b-e774173e6446",
   "metadata": {},
   "outputs": [
    {
     "name": "stdout",
     "output_type": "stream",
     "text": [
      "[[12, 20], [4, 11], [25, 9], [27, 25, 22], [9, 18, 9], [19, 20], [12, 18, 27], [10, 22], [10, 9], [19, 13]]\n"
     ]
    }
   ],
   "source": [
    "vocab_size = 30\n",
    "encoded_reviews = [one_hot(d,vocab_size) for d in reviews]\n",
    "print(encoded_reviews)"
   ]
  },
  {
   "cell_type": "markdown",
   "id": "a62ef3a7-cb6e-4a38-bd2d-2a571cd34084",
   "metadata": {},
   "source": [
    "<b>Added Paddings"
   ]
  },
  {
   "cell_type": "code",
   "execution_count": 5,
   "id": "e660e584-ebe6-46e7-99d8-d28ad48a15da",
   "metadata": {},
   "outputs": [
    {
     "name": "stdout",
     "output_type": "stream",
     "text": [
      "[[12 20  0  0]\n",
      " [ 4 11  0  0]\n",
      " [25  9  0  0]\n",
      " [27 25 22  0]\n",
      " [ 9 18  9  0]\n",
      " [19 20  0  0]\n",
      " [12 18 27  0]\n",
      " [10 22  0  0]\n",
      " [10  9  0  0]\n",
      " [19 13  0  0]]\n"
     ]
    }
   ],
   "source": [
    "max_length = 4\n",
    "padded_reviews = pad_sequences(encoded_reviews, maxlen=max_length, padding='post')\n",
    "print(padded_reviews)"
   ]
  },
  {
   "cell_type": "markdown",
   "id": "f64ba08f-4a22-45a6-adb9-3b97ae2985ef",
   "metadata": {},
   "source": [
    "<b>Model Training and Embedding"
   ]
  },
  {
   "cell_type": "code",
   "execution_count": 6,
   "id": "9b909354-7142-490a-b57d-8a21014252d4",
   "metadata": {},
   "outputs": [
    {
     "name": "stderr",
     "output_type": "stream",
     "text": [
      "C:\\Users\\Hp\\AppData\\Local\\Programs\\Python\\Python312\\Lib\\site-packages\\keras\\src\\layers\\core\\embedding.py:90: UserWarning: Argument `input_length` is deprecated. Just remove it.\n",
      "  warnings.warn(\n"
     ]
    }
   ],
   "source": [
    "embeded_vector_size = 5\n",
    "\n",
    "model = Sequential()\n",
    "model.add(Embedding(vocab_size, embeded_vector_size, input_length=max_length,name=\"embedding\"))\n",
    "model.add(Flatten())\n",
    "model.add(Dense(1, activation='sigmoid'))"
   ]
  },
  {
   "cell_type": "code",
   "execution_count": 7,
   "id": "7c4959d1-f923-40d1-8a77-3b5a0e59dee4",
   "metadata": {},
   "outputs": [],
   "source": [
    "X = padded_reviews\n",
    "y = sentiment"
   ]
  },
  {
   "cell_type": "code",
   "execution_count": 8,
   "id": "0b79bf21-15d1-4c72-9fb6-f4a9cb3aa49c",
   "metadata": {},
   "outputs": [],
   "source": [
    "model.build(input_shape=(None, max_length)) # manually buiding model"
   ]
  },
  {
   "cell_type": "code",
   "execution_count": 9,
   "id": "9b5c65f2-be83-4380-b137-96bcd3151604",
   "metadata": {},
   "outputs": [
    {
     "data": {
      "text/html": [
       "<pre style=\"white-space:pre;overflow-x:auto;line-height:normal;font-family:Menlo,'DejaVu Sans Mono',consolas,'Courier New',monospace\"><span style=\"font-weight: bold\">Model: \"sequential\"</span>\n",
       "</pre>\n"
      ],
      "text/plain": [
       "\u001b[1mModel: \"sequential\"\u001b[0m\n"
      ]
     },
     "metadata": {},
     "output_type": "display_data"
    },
    {
     "data": {
      "text/html": [
       "<pre style=\"white-space:pre;overflow-x:auto;line-height:normal;font-family:Menlo,'DejaVu Sans Mono',consolas,'Courier New',monospace\">┏━━━━━━━━━━━━━━━━━━━━━━━━━━━━━━━━━━━━━━┳━━━━━━━━━━━━━━━━━━━━━━━━━━━━━┳━━━━━━━━━━━━━━━━━┓\n",
       "┃<span style=\"font-weight: bold\"> Layer (type)                         </span>┃<span style=\"font-weight: bold\"> Output Shape                </span>┃<span style=\"font-weight: bold\">         Param # </span>┃\n",
       "┡━━━━━━━━━━━━━━━━━━━━━━━━━━━━━━━━━━━━━━╇━━━━━━━━━━━━━━━━━━━━━━━━━━━━━╇━━━━━━━━━━━━━━━━━┩\n",
       "│ embedding (<span style=\"color: #0087ff; text-decoration-color: #0087ff\">Embedding</span>)                │ (<span style=\"color: #00d7ff; text-decoration-color: #00d7ff\">None</span>, <span style=\"color: #00af00; text-decoration-color: #00af00\">4</span>, <span style=\"color: #00af00; text-decoration-color: #00af00\">5</span>)                │             <span style=\"color: #00af00; text-decoration-color: #00af00\">150</span> │\n",
       "├──────────────────────────────────────┼─────────────────────────────┼─────────────────┤\n",
       "│ flatten (<span style=\"color: #0087ff; text-decoration-color: #0087ff\">Flatten</span>)                    │ (<span style=\"color: #00d7ff; text-decoration-color: #00d7ff\">None</span>, <span style=\"color: #00af00; text-decoration-color: #00af00\">20</span>)                  │               <span style=\"color: #00af00; text-decoration-color: #00af00\">0</span> │\n",
       "├──────────────────────────────────────┼─────────────────────────────┼─────────────────┤\n",
       "│ dense (<span style=\"color: #0087ff; text-decoration-color: #0087ff\">Dense</span>)                        │ (<span style=\"color: #00d7ff; text-decoration-color: #00d7ff\">None</span>, <span style=\"color: #00af00; text-decoration-color: #00af00\">1</span>)                   │              <span style=\"color: #00af00; text-decoration-color: #00af00\">21</span> │\n",
       "└──────────────────────────────────────┴─────────────────────────────┴─────────────────┘\n",
       "</pre>\n"
      ],
      "text/plain": [
       "┏━━━━━━━━━━━━━━━━━━━━━━━━━━━━━━━━━━━━━━┳━━━━━━━━━━━━━━━━━━━━━━━━━━━━━┳━━━━━━━━━━━━━━━━━┓\n",
       "┃\u001b[1m \u001b[0m\u001b[1mLayer (type)                        \u001b[0m\u001b[1m \u001b[0m┃\u001b[1m \u001b[0m\u001b[1mOutput Shape               \u001b[0m\u001b[1m \u001b[0m┃\u001b[1m \u001b[0m\u001b[1m        Param #\u001b[0m\u001b[1m \u001b[0m┃\n",
       "┡━━━━━━━━━━━━━━━━━━━━━━━━━━━━━━━━━━━━━━╇━━━━━━━━━━━━━━━━━━━━━━━━━━━━━╇━━━━━━━━━━━━━━━━━┩\n",
       "│ embedding (\u001b[38;5;33mEmbedding\u001b[0m)                │ (\u001b[38;5;45mNone\u001b[0m, \u001b[38;5;34m4\u001b[0m, \u001b[38;5;34m5\u001b[0m)                │             \u001b[38;5;34m150\u001b[0m │\n",
       "├──────────────────────────────────────┼─────────────────────────────┼─────────────────┤\n",
       "│ flatten (\u001b[38;5;33mFlatten\u001b[0m)                    │ (\u001b[38;5;45mNone\u001b[0m, \u001b[38;5;34m20\u001b[0m)                  │               \u001b[38;5;34m0\u001b[0m │\n",
       "├──────────────────────────────────────┼─────────────────────────────┼─────────────────┤\n",
       "│ dense (\u001b[38;5;33mDense\u001b[0m)                        │ (\u001b[38;5;45mNone\u001b[0m, \u001b[38;5;34m1\u001b[0m)                   │              \u001b[38;5;34m21\u001b[0m │\n",
       "└──────────────────────────────────────┴─────────────────────────────┴─────────────────┘\n"
      ]
     },
     "metadata": {},
     "output_type": "display_data"
    },
    {
     "data": {
      "text/html": [
       "<pre style=\"white-space:pre;overflow-x:auto;line-height:normal;font-family:Menlo,'DejaVu Sans Mono',consolas,'Courier New',monospace\"><span style=\"font-weight: bold\"> Total params: </span><span style=\"color: #00af00; text-decoration-color: #00af00\">171</span> (684.00 B)\n",
       "</pre>\n"
      ],
      "text/plain": [
       "\u001b[1m Total params: \u001b[0m\u001b[38;5;34m171\u001b[0m (684.00 B)\n"
      ]
     },
     "metadata": {},
     "output_type": "display_data"
    },
    {
     "data": {
      "text/html": [
       "<pre style=\"white-space:pre;overflow-x:auto;line-height:normal;font-family:Menlo,'DejaVu Sans Mono',consolas,'Courier New',monospace\"><span style=\"font-weight: bold\"> Trainable params: </span><span style=\"color: #00af00; text-decoration-color: #00af00\">171</span> (684.00 B)\n",
       "</pre>\n"
      ],
      "text/plain": [
       "\u001b[1m Trainable params: \u001b[0m\u001b[38;5;34m171\u001b[0m (684.00 B)\n"
      ]
     },
     "metadata": {},
     "output_type": "display_data"
    },
    {
     "data": {
      "text/html": [
       "<pre style=\"white-space:pre;overflow-x:auto;line-height:normal;font-family:Menlo,'DejaVu Sans Mono',consolas,'Courier New',monospace\"><span style=\"font-weight: bold\"> Non-trainable params: </span><span style=\"color: #00af00; text-decoration-color: #00af00\">0</span> (0.00 B)\n",
       "</pre>\n"
      ],
      "text/plain": [
       "\u001b[1m Non-trainable params: \u001b[0m\u001b[38;5;34m0\u001b[0m (0.00 B)\n"
      ]
     },
     "metadata": {},
     "output_type": "display_data"
    }
   ],
   "source": [
    "model.compile(optimizer='adam', loss='binary_crossentropy', metrics=['accuracy'])\n",
    "model.summary()"
   ]
  },
  {
   "cell_type": "code",
   "execution_count": 10,
   "id": "817fad03-56f3-4726-ab92-2d313953a36c",
   "metadata": {},
   "outputs": [
    {
     "data": {
      "text/plain": [
       "<keras.src.callbacks.history.History at 0x1dd9b64db50>"
      ]
     },
     "execution_count": 10,
     "metadata": {},
     "output_type": "execute_result"
    }
   ],
   "source": [
    "model.fit(X, y, epochs=50, verbose=0)"
   ]
  },
  {
   "cell_type": "code",
   "execution_count": 11,
   "id": "d15cefb2-6fca-4e9b-a5ff-2f576782747f",
   "metadata": {},
   "outputs": [
    {
     "name": "stdout",
     "output_type": "stream",
     "text": [
      "\u001b[1m1/1\u001b[0m \u001b[32m━━━━━━━━━━━━━━━━━━━━\u001b[0m\u001b[37m\u001b[0m \u001b[1m0s\u001b[0m 297ms/step - accuracy: 0.9000 - loss: 0.6375\n"
     ]
    },
    {
     "data": {
      "text/plain": [
       "0.8999999761581421"
      ]
     },
     "execution_count": 11,
     "metadata": {},
     "output_type": "execute_result"
    }
   ],
   "source": [
    "# evaluate the model\n",
    "loss, accuracy = model.evaluate(X, y)\n",
    "accuracy"
   ]
  },
  {
   "cell_type": "markdown",
   "id": "2d051656-2e2d-49b7-aa02-3302ae4dac2b",
   "metadata": {},
   "source": [
    "<b>Embedding weights"
   ]
  },
  {
   "cell_type": "code",
   "execution_count": 12,
   "id": "3f75c202-7045-46fe-8a28-cca9516cb25a",
   "metadata": {},
   "outputs": [
    {
     "data": {
      "text/plain": [
       "array([[-0.02891003,  0.01081556,  0.0282058 , -0.00306427, -0.00234527],\n",
       "       [ 0.02868289,  0.01105702,  0.00112859, -0.02521232, -0.03810974],\n",
       "       [-0.02100469,  0.00635455, -0.00171461, -0.04919092, -0.00101597],\n",
       "       [-0.01063729,  0.04512937, -0.01780921, -0.00046391,  0.0239643 ],\n",
       "       [ 0.0250465 ,  0.07487744, -0.00270506, -0.05723004,  0.09254707],\n",
       "       [ 0.00069884, -0.01605623, -0.04176838, -0.04419684, -0.01722751],\n",
       "       [-0.04414156, -0.02894235,  0.03537646,  0.04942247, -0.0290749 ],\n",
       "       [ 0.00807797, -0.00250784,  0.0002965 ,  0.02950518,  0.00018973],\n",
       "       [ 0.00073749, -0.02012513, -0.01515085,  0.02114144,  0.01517625],\n",
       "       [ 0.04859369,  0.0525638 , -0.0066433 , -0.01011298,  0.00922284],\n",
       "       [-0.11264107, -0.0678744 ,  0.08829612,  0.11855378, -0.1206255 ],\n",
       "       [-0.0830708 , -0.03984039, -0.03124751,  0.06288611, -0.02477491],\n",
       "       [ 0.02483001,  0.0312437 ,  0.03741973, -0.00114625,  0.01459044],\n",
       "       [ 0.02012528,  0.0248423 ,  0.0655949 , -0.08700713,  0.08648913],\n",
       "       [-0.00744373, -0.03556854, -0.00376564,  0.01515141,  0.02181374],\n",
       "       [ 0.00467309,  0.02154261,  0.02544196, -0.00297356,  0.03385425],\n",
       "       [ 0.03816024, -0.03616511, -0.02342128,  0.04753492,  0.03104527],\n",
       "       [ 0.02116617, -0.00231156, -0.03378221, -0.00623773,  0.02456817],\n",
       "       [ 0.01190592, -0.04503429,  0.0356288 , -0.01848742, -0.01404001],\n",
       "       [-0.06945212, -0.06421332,  0.03156019,  0.02970906, -0.03643566],\n",
       "       [-0.01889615,  0.0482925 ,  0.04888921, -0.04189488,  0.03160565],\n",
       "       [ 0.03485796,  0.04245241, -0.0065043 ,  0.04893534, -0.02882928],\n",
       "       [ 0.04143411,  0.04707967,  0.02206513,  0.02243879,  0.06584685],\n",
       "       [ 0.00894265,  0.04044623, -0.00284579, -0.03048245,  0.02542145],\n",
       "       [-0.02130263, -0.00888254, -0.03886173, -0.03355218,  0.03520123],\n",
       "       [ 0.04815103,  0.04462664, -0.02883538, -0.00684759, -0.01481541],\n",
       "       [-0.02448794, -0.03568734,  0.00287907, -0.01716768,  0.0029211 ],\n",
       "       [ 0.06857794,  0.10176931, -0.06510386, -0.11037932,  0.10614585],\n",
       "       [-0.04343299,  0.03615   , -0.03933914,  0.03215526, -0.0173929 ],\n",
       "       [ 0.03188551,  0.02109149,  0.01277706, -0.00399934,  0.00902623]],\n",
       "      dtype=float32)"
      ]
     },
     "execution_count": 12,
     "metadata": {},
     "output_type": "execute_result"
    }
   ],
   "source": [
    "weights = model.get_layer('embedding').get_weights()[0]\n",
    "weights"
   ]
  },
  {
   "cell_type": "code",
   "execution_count": 13,
   "id": "ad3916eb-db5c-4714-9968-b75dfbde245b",
   "metadata": {},
   "outputs": [
    {
     "data": {
      "text/plain": [
       "30"
      ]
     },
     "execution_count": 13,
     "metadata": {},
     "output_type": "execute_result"
    }
   ],
   "source": [
    "len(weights)"
   ]
  },
  {
   "cell_type": "code",
   "execution_count": 14,
   "id": "d70aa6fd-e1fd-4b49-aa06-757e0a2a9608",
   "metadata": {},
   "outputs": [
    {
     "data": {
      "text/plain": [
       "5"
      ]
     },
     "execution_count": 14,
     "metadata": {},
     "output_type": "execute_result"
    }
   ],
   "source": [
    "len(weights[4])"
   ]
  },
  {
   "cell_type": "code",
   "execution_count": 15,
   "id": "339c96cc-d4ff-4433-a2bf-9fa9e620c759",
   "metadata": {},
   "outputs": [
    {
     "data": {
      "text/plain": [
       "array([ 0.02012528,  0.0248423 ,  0.0655949 , -0.08700713,  0.08648913],\n",
       "      dtype=float32)"
      ]
     },
     "execution_count": 15,
     "metadata": {},
     "output_type": "execute_result"
    }
   ],
   "source": [
    "weights[13]"
   ]
  },
  {
   "cell_type": "code",
   "execution_count": 16,
   "id": "37895a05-b7d4-453f-8fbf-7d1d214f5bbd",
   "metadata": {},
   "outputs": [
    {
     "data": {
      "text/plain": [
       "array([ 0.0250465 ,  0.07487744, -0.00270506, -0.05723004,  0.09254707],\n",
       "      dtype=float32)"
      ]
     },
     "execution_count": 16,
     "metadata": {},
     "output_type": "execute_result"
    }
   ],
   "source": [
    "weights[4]"
   ]
  },
  {
   "cell_type": "code",
   "execution_count": 17,
   "id": "3f78b551-9fe2-4d37-9abf-bc04b276c2ab",
   "metadata": {},
   "outputs": [
    {
     "data": {
      "text/plain": [
       "array([-0.02130263, -0.00888254, -0.03886173, -0.03355218,  0.03520123],\n",
       "      dtype=float32)"
      ]
     },
     "execution_count": 17,
     "metadata": {},
     "output_type": "execute_result"
    }
   ],
   "source": [
    "weights[24]"
   ]
  },
  {
   "cell_type": "code",
   "execution_count": 18,
   "id": "a73be5d8-6716-4b88-a25b-f5356be093cb",
   "metadata": {},
   "outputs": [
    {
     "data": {
      "text/plain": [
       "array([ 0.00069884, -0.01605623, -0.04176838, -0.04419684, -0.01722751],\n",
       "      dtype=float32)"
      ]
     },
     "execution_count": 18,
     "metadata": {},
     "output_type": "execute_result"
    }
   ],
   "source": [
    "weights[5]"
   ]
  },
  {
   "cell_type": "code",
   "execution_count": null,
   "id": "c86ebd48-e245-4932-b9b4-6ad86bc3f06e",
   "metadata": {},
   "outputs": [],
   "source": []
  }
 ],
 "metadata": {
  "kernelspec": {
   "display_name": "Python 3 (ipykernel)",
   "language": "python",
   "name": "python3"
  },
  "language_info": {
   "codemirror_mode": {
    "name": "ipython",
    "version": 3
   },
   "file_extension": ".py",
   "mimetype": "text/x-python",
   "name": "python",
   "nbconvert_exporter": "python",
   "pygments_lexer": "ipython3",
   "version": "3.12.2"
  }
 },
 "nbformat": 4,
 "nbformat_minor": 5
}
