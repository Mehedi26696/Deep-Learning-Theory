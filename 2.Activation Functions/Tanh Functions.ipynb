{
 "cells": [
  {
   "cell_type": "markdown",
   "id": "043630ee-7cd4-49d7-897a-2472ed8bbf68",
   "metadata": {},
   "source": [
    "<center><h1 style=\"color:blue\">Tanh Function</h1>"
   ]
  },
  {
   "cell_type": "code",
   "execution_count": 3,
   "id": "0d0bb4fd-8066-4a74-9308-53096731e74d",
   "metadata": {},
   "outputs": [],
   "source": [
    "import math\n",
    "def tanh(x):\n",
    "  return (math.exp(x) - math.exp(-x)) / (math.exp(x) + math.exp(-x))"
   ]
  },
  {
   "cell_type": "code",
   "execution_count": 14,
   "id": "40a90d87-8e49-450b-8c5f-30185f7cea82",
   "metadata": {},
   "outputs": [
    {
     "data": {
      "text/plain": [
       "-0.999909204262595"
      ]
     },
     "execution_count": 14,
     "metadata": {},
     "output_type": "execute_result"
    }
   ],
   "source": [
    "tanh(-5)"
   ]
  },
  {
   "cell_type": "code",
   "execution_count": 15,
   "id": "05d4ee0c-399d-405a-9b2e-af2ad56a2c28",
   "metadata": {},
   "outputs": [
    {
     "data": {
      "text/plain": [
       "-0.9999999958776926"
      ]
     },
     "execution_count": 15,
     "metadata": {},
     "output_type": "execute_result"
    }
   ],
   "source": [
    "tanh(-10)"
   ]
  },
  {
   "cell_type": "code",
   "execution_count": 16,
   "id": "112b6ee2-f292-41cf-bca0-ca3c2862526f",
   "metadata": {},
   "outputs": [
    {
     "data": {
      "text/plain": [
       "-0.9999999999998128"
      ]
     },
     "execution_count": 16,
     "metadata": {},
     "output_type": "execute_result"
    }
   ],
   "source": [
    "tanh(-15)"
   ]
  },
  {
   "cell_type": "code",
   "execution_count": 17,
   "id": "2bd1176c-82a7-4155-9f7e-54c227b1ef8b",
   "metadata": {},
   "outputs": [
    {
     "data": {
      "text/plain": [
       "-0.9999999999999996"
      ]
     },
     "execution_count": 17,
     "metadata": {},
     "output_type": "execute_result"
    }
   ],
   "source": [
    "tanh(-18)"
   ]
  },
  {
   "cell_type": "code",
   "execution_count": 18,
   "id": "80666407-a879-4b53-88bb-2ac983ec41c8",
   "metadata": {},
   "outputs": [
    {
     "data": {
      "text/plain": [
       "-1.0"
      ]
     },
     "execution_count": 18,
     "metadata": {},
     "output_type": "execute_result"
    }
   ],
   "source": [
    "tanh(-20)"
   ]
  },
  {
   "cell_type": "code",
   "execution_count": 4,
   "id": "9aad27f7-6462-47bc-849e-ff0ecb693264",
   "metadata": {},
   "outputs": [
    {
     "data": {
      "text/plain": [
       "-1.0"
      ]
     },
     "execution_count": 4,
     "metadata": {},
     "output_type": "execute_result"
    }
   ],
   "source": [
    "tanh(-56)"
   ]
  },
  {
   "cell_type": "code",
   "execution_count": 19,
   "id": "d4931ace-5091-4c0c-91c5-5ae2ecd6d2e1",
   "metadata": {},
   "outputs": [
    {
     "data": {
      "text/plain": [
       "1.0"
      ]
     },
     "execution_count": 19,
     "metadata": {},
     "output_type": "execute_result"
    }
   ],
   "source": [
    "tanh(20)"
   ]
  },
  {
   "cell_type": "code",
   "execution_count": 5,
   "id": "901cb6c8-31f7-49d1-b170-68505d573b93",
   "metadata": {},
   "outputs": [
    {
     "data": {
      "text/plain": [
       "1.0"
      ]
     },
     "execution_count": 5,
     "metadata": {},
     "output_type": "execute_result"
    }
   ],
   "source": [
    "tanh(50)"
   ]
  },
  {
   "cell_type": "code",
   "execution_count": 6,
   "id": "17cdf98a-c751-4302-9e39-66c6fb1d34d6",
   "metadata": {},
   "outputs": [
    {
     "data": {
      "text/plain": [
       "0.7615941559557649"
      ]
     },
     "execution_count": 6,
     "metadata": {},
     "output_type": "execute_result"
    }
   ],
   "source": [
    "tanh(1)"
   ]
  },
  {
   "cell_type": "code",
   "execution_count": 20,
   "id": "1a123845-d1d2-428e-acfe-1c80394cd02d",
   "metadata": {},
   "outputs": [
    {
     "data": {
      "image/png": "[encoded data removed]",
      "text/plain": [
       "<Figure size 640x480 with 1 Axes>"
      ]
     },
     "metadata": {},
     "output_type": "display_data"
    }
   ],
   "source": [
    "import numpy as np\n",
    "import matplotlib.pyplot as plt\n",
    "\n",
    "# Define the tanh function using NumPy\n",
    "def tanh(x):\n",
    "    return (np.exp(x) - np.exp(-x)) / (np.exp(x) + np.exp(-x))\n",
    "\n",
    "# Generate x values\n",
    "x = np.linspace(-90, 1, 90)\n",
    "\n",
    "# Plot the tanh function\n",
    "plt.plot(x, tanh(x))\n",
    "plt.title('Tanh Function')\n",
    "plt.xlabel('x')\n",
    "plt.ylabel('tanh(x)')\n",
    "plt.show()"
   ]
  },
  {
   "cell_type": "code",
   "execution_count": null,
   "id": "1375bd3c-8246-4b18-8a6e-6e45ed86913b",
   "metadata": {},
   "outputs": [],
   "source": []
  }
 ],
 "metadata": {
  "kernelspec": {
   "display_name": "Python 3 (ipykernel)",
   "language": "python",
   "name": "python3"
  },
  "language_info": {
   "codemirror_mode": {
    "name": "ipython",
    "version": 3
   },
   "file_extension": ".py",
   "mimetype": "text/x-python",
   "name": "python",
   "nbconvert_exporter": "python",
   "pygments_lexer": "ipython3",
   "version": "3.12.2"
  }
 },
 "nbformat": 4,
 "nbformat_minor": 5
}
