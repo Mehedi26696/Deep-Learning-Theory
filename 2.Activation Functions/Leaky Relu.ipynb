{
 "cells": [
  {
   "cell_type": "markdown",
   "id": "a24bb412-aad5-4ad1-b5e8-aa7c8a46fa3f",
   "metadata": {},
   "source": [
    "<center><h1 style=\"color:green\">Leaky Relu</h1>"
   ]
  },
  {
   "cell_type": "code",
   "execution_count": 1,
   "id": "437410dc-4084-4ed8-a281-8dbc1a679dcd",
   "metadata": {},
   "outputs": [],
   "source": [
    "def leaky_relu(x):\n",
    "    return max(0.1*x,x)"
   ]
  },
  {
   "cell_type": "code",
   "execution_count": 2,
   "id": "9888ae97-4e0a-47fb-9682-c946db36ce5e",
   "metadata": {},
   "outputs": [
    {
     "data": {
      "text/plain": [
       "-10.0"
      ]
     },
     "execution_count": 2,
     "metadata": {},
     "output_type": "execute_result"
    }
   ],
   "source": [
    "leaky_relu(-100)"
   ]
  },
  {
   "cell_type": "code",
   "execution_count": 3,
   "id": "9e4b3121-cfd0-4ef9-aeff-d61436dfbe4f",
   "metadata": {},
   "outputs": [
    {
     "data": {
      "text/plain": [
       "10"
      ]
     },
     "execution_count": 3,
     "metadata": {},
     "output_type": "execute_result"
    }
   ],
   "source": [
    "leaky_relu(10)"
   ]
  },
  {
   "cell_type": "code",
   "execution_count": null,
   "id": "457361e4-8e37-4187-b0a9-fc2b596d5b37",
   "metadata": {},
   "outputs": [],
   "source": []
  }
 ],
 "metadata": {
  "kernelspec": {
   "display_name": "Python 3 (ipykernel)",
   "language": "python",
   "name": "python3"
  },
  "language_info": {
   "codemirror_mode": {
    "name": "ipython",
    "version": 3
   },
   "file_extension": ".py",
   "mimetype": "text/x-python",
   "name": "python",
   "nbconvert_exporter": "python",
   "pygments_lexer": "ipython3",
   "version": "3.12.2"
  }
 },
 "nbformat": 4,
 "nbformat_minor": 5
}
