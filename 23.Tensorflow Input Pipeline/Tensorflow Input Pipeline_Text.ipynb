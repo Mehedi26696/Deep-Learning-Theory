{
 "cells": [
  {
   "cell_type": "markdown",
   "id": "4973a9ae-5ddc-4ebd-ad17-1bf7192aae69",
   "metadata": {},
   "source": [
    "<h3  align=\"center\" style='color:blue'>TF Data Input Pipeline Text</h3>"
   ]
  },
  {
   "cell_type": "markdown",
   "id": "9e7282ea-eff5-4cd1-9d24-55dbed94aa0a",
   "metadata": {},
   "source": [
    "Moview reviews are present as individual text file (one file per review) in review folder. \n",
    "\n",
    "Folder structure looks like this,\n",
    "\n",
    "reviews\n",
    "\n",
    "    |__ positive\n",
    "        |__pos_1.txt\n",
    "        |__pos_2.txt\n",
    "        |__pos_3.txt\n",
    "    |__ negative\n",
    "        |__neg_1.txt\n",
    "        |__neg_2.txt\n",
    "        |__neg_3.txt\n",
    "   \n",
    "You need to read these reviews using tf.data.Dataset and perform following transformations,\n",
    "\n",
    "(1) Read text review and generate a label from folder name. your dataset should have review text and label as a tuple\n",
    "\n",
    "(2) Filter blank text review. Two files are blank in this dataset\n",
    "\n",
    "(3) Do all of the above transformations in single line of code. Also shuffle all the reviews"
   ]
  },
  {
   "cell_type": "code",
   "execution_count": 1,
   "id": "4338e4c7-338a-47f0-b74c-cdd07e2b91e7",
   "metadata": {},
   "outputs": [],
   "source": [
    "import tensorflow as tf"
   ]
  },
  {
   "cell_type": "markdown",
   "id": "08124bd3-53e6-408e-ba2f-5ab681785411",
   "metadata": {},
   "source": [
    "<h3 style='color:purple'>Retrieve review file paths in a tensorflow dataset</h3>"
   ]
  },
  {
   "cell_type": "code",
   "execution_count": 2,
   "id": "4dff0143-d68f-4b3a-8bcd-fe518a5b5dd1",
   "metadata": {},
   "outputs": [
    {
     "data": {
      "text/plain": [
       "<_TensorSliceDataset element_spec=TensorSpec(shape=(), dtype=tf.string, name=None)>"
      ]
     },
     "execution_count": 2,
     "metadata": {},
     "output_type": "execute_result"
    }
   ],
   "source": [
    "reviews_ds = tf.data.Dataset.list_files('reviews/*/*', shuffle=False)\n",
    "reviews_ds"
   ]
  },
  {
   "cell_type": "code",
   "execution_count": 3,
   "id": "30cbaf15-5077-4577-9fa5-111fc50ba7c2",
   "metadata": {},
   "outputs": [
    {
     "name": "stdout",
     "output_type": "stream",
     "text": [
      "b'reviews\\\\negative\\\\neg_1.txt'\n",
      "b'reviews\\\\negative\\\\neg_2.txt'\n",
      "b'reviews\\\\negative\\\\neg_3.txt'\n",
      "b'reviews\\\\positive\\\\pos_1.txt'\n",
      "b'reviews\\\\positive\\\\pos_2.txt'\n",
      "b'reviews\\\\positive\\\\pos_3.txt'\n"
     ]
    }
   ],
   "source": [
    "for file in reviews_ds:\n",
    "    print(file.numpy())"
   ]
  },
  {
   "cell_type": "markdown",
   "id": "05319d01-fb12-462f-90c3-119ac43471f1",
   "metadata": {},
   "source": [
    "<b>Extract review text from these files. Extract label from folder name"
   ]
  },
  {
   "cell_type": "code",
   "execution_count": 4,
   "id": "d4c161ef-4e3e-4ce6-9199-04dd8cfa55c3",
   "metadata": {},
   "outputs": [],
   "source": [
    "import os\n",
    "def extract_review_and_label(file_path):\n",
    "    return tf.io.read_file(file_path), tf.strings.split(file_path, os.path.sep)[-2]"
   ]
  },
  {
   "cell_type": "code",
   "execution_count": 5,
   "id": "e5018ac3-75d2-41d3-89f8-3f70af5ba52f",
   "metadata": {},
   "outputs": [
    {
     "name": "stdout",
     "output_type": "stream",
     "text": [
      "Review:  b\"Basically there's a family where a little boy (Jak\"\n",
      "Label:  b'negative'\n",
      "Review:  b'This show was an amazing, fresh & innovative idea '\n",
      "Label:  b'negative'\n",
      "Review:  b''\n",
      "Label:  b'negative'\n",
      "Review:  b'One of the other reviewers has mentioned that afte'\n",
      "Label:  b'positive'\n",
      "Review:  b'A wonderful little production. <br /><br />The fil'\n",
      "Label:  b'positive'\n",
      "Review:  b''\n",
      "Label:  b'positive'\n"
     ]
    }
   ],
   "source": [
    "reviews_ds_1 = reviews_ds.map(extract_review_and_label)\n",
    "for review, label in reviews_ds_1:\n",
    "    print(\"Review: \",review.numpy()[:50])\n",
    "    print(\"Label: \",label.numpy())"
   ]
  },
  {
   "cell_type": "markdown",
   "id": "d6694fcc-0c46-45ca-9012-d89f96e35076",
   "metadata": {},
   "source": [
    "<b>Filter Blank Reviews"
   ]
  },
  {
   "cell_type": "code",
   "execution_count": 6,
   "id": "d452cc71-fcaa-48da-8d57-11d3a4171b33",
   "metadata": {},
   "outputs": [
    {
     "name": "stdout",
     "output_type": "stream",
     "text": [
      "Review:  b\"Basically there's a family where a little boy (Jak\"\n",
      "Label:  b'negative'\n",
      "Review:  b'This show was an amazing, fresh & innovative idea '\n",
      "Label:  b'negative'\n",
      "Review:  b'One of the other reviewers has mentioned that afte'\n",
      "Label:  b'positive'\n",
      "Review:  b'A wonderful little production. <br /><br />The fil'\n",
      "Label:  b'positive'\n"
     ]
    }
   ],
   "source": [
    "reviews_ds_2 = reviews_ds_1.filter(lambda review, label: review!=\"\")\n",
    "for review, label in reviews_ds_2.as_numpy_iterator():\n",
    "    print(\"Review: \",review[:50])\n",
    "    print(\"Label: \",label)"
   ]
  },
  {
   "cell_type": "markdown",
   "id": "37bd8c71-d406-4913-a1ce-e2e51a93ee1c",
   "metadata": {},
   "source": [
    "<h1>Perform map, filter and shuffle all in single line of code</h1>"
   ]
  },
  {
   "cell_type": "code",
   "execution_count": 7,
   "id": "9f594c2a-24c3-4b38-b051-96cb6a52f600",
   "metadata": {},
   "outputs": [
    {
     "name": "stdout",
     "output_type": "stream",
     "text": [
      "Review: b\"Basically there's a family where a little boy (Jak\"\n",
      "Label: b'negative'\n",
      "Review: b'A wonderful little production. <br /><br />The fil'\n",
      "Label: b'positive'\n",
      "Review: b'This show was an amazing, fresh & innovative idea '\n",
      "Label: b'negative'\n",
      "Review: b'One of the other reviewers has mentioned that afte'\n",
      "Label: b'positive'\n"
     ]
    }
   ],
   "source": [
    "final_ds = reviews_ds.map(extract_review_and_label).filter(lambda review, label: review!=\"\").shuffle(3)\n",
    "for review, label in final_ds.as_numpy_iterator():\n",
    "    print(\"Review:\",review[:50])\n",
    "    print(\"Label:\",label)"
   ]
  },
  {
   "cell_type": "code",
   "execution_count": null,
   "id": "a4d643ed-3bf4-494a-b8e6-bfbf67bfe37e",
   "metadata": {},
   "outputs": [],
   "source": []
  }
 ],
 "metadata": {
  "kernelspec": {
   "display_name": "Python 3 (ipykernel)",
   "language": "python",
   "name": "python3"
  },
  "language_info": {
   "codemirror_mode": {
    "name": "ipython",
    "version": 3
   },
   "file_extension": ".py",
   "mimetype": "text/x-python",
   "name": "python",
   "nbconvert_exporter": "python",
   "pygments_lexer": "ipython3",
   "version": "3.12.2"
  }
 },
 "nbformat": 4,
 "nbformat_minor": 5
}
