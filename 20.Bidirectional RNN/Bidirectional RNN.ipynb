{
 "cells": [
  {
   "cell_type": "markdown",
   "id": "3818027b-d224-45a0-83de-40531af590b0",
   "metadata": {},
   "source": [
    "<center><h1 style=\"color:green\">Bidirectional Recurrent Neural Networks (BiRNN)</center>"
   ]
  },
  {
   "cell_type": "markdown",
   "id": "377f72bf-5c89-4761-903b-5093ab0b1527",
   "metadata": {},
   "source": [
    "## 🔹 Introduction\n",
    "A **Bidirectional Recurrent Neural Network (BiRNN)** is an extension of standard RNNs that improves sequence learning by processing input in **both forward and backward directions**. This allows the network to capture **past and future context**, making it more effective for tasks like speech recognition and natural language processing (NLP).\n",
    "\n",
    "---\n",
    "\n",
    "## 1️⃣ Architecture of BiRNN\n",
    "Unlike a standard RNN, which processes input in a single direction (left-to-right or right-to-left), a BiRNN consists of two RNN layers:\n",
    "\n",
    "1. **Forward RNN:** Processes input sequence from **beginning to end**.\n",
    "2. **Backward RNN:** Processes input sequence from **end to beginning**.\n",
    "3. **Concatenation/Merging:** The outputs of both directions are combined at each time step.\n",
    "\n",
    "### **🔹 BiRNN Formula**\n",
    "For a given input sequence $ X = \\{x_1, x_2, ..., x_T\\} $:\n",
    "\n",
    "- **Forward hidden state:**\n",
    "  $$\n",
    "  \\overrightarrow{h_t} = f(W_f x_t + U_f \\overrightarrow{h_{t-1}} + b_f)\n",
    "  $$\n",
    "\n",
    "- **Backward hidden state:**\n",
    "  $$\n",
    "  \\overleftarrow{h_t} = f(W_b x_t + U_b \\overleftarrow{h_{t+1}} + b_b)\n",
    "  $$\n",
    "\n",
    "- **Final output at time \\( t \\):**\n",
    "  $$\n",
    "  h_t = g(\\overrightarrow{h_t}, \\overleftarrow{h_t})\n",
    "  $$\n",
    "  Where $ g $ is usually a concatenation or summation operation.\n",
    "\n",
    "---\n",
    "\n",
    "## 2️⃣ Why Use BiRNN?\n",
    "- ✅ **Captures context from both past and future** ⏳➡️⬅️\n",
    "- ✅ **More effective for sequential tasks** (e.g., NLP, speech recognition)\n",
    "- ✅ **Improves accuracy compared to standard RNNs**\n",
    "- ✅ **Better handling of long-term dependencies**\n",
    "\n",
    "---\n",
    "\n",
    "## 3️⃣ Applications of BiRNN\n",
    "- ✔ **Speech Recognition** (e.g., Google Voice, Siri)\n",
    "- ✔ **Machine Translation** (e.g., English ↔ Bangla)\n",
    "- ✔ **Named Entity Recognition (NER)**\n",
    "- ✔ **Part-of-Speech Tagging**\n",
    "- ✔ **Text Summarization**\n",
    "- ✔ **Sentiment Analysis**\n",
    "- ✔ **Handwriting Recognition**\n",
    "\n",
    "---\n",
    "\n",
    "## 🔥 Conclusion\n",
    "Bidirectional RNNs are a powerful enhancement over traditional RNNs, making them highly effective for tasks that require understanding **both past and future context**. However, they require **more computation** due to dual processing. For long sequences, **BiLSTMs** and **BiGRUs** are often preferred due to their improved handling of vanishing gradients.\n",
    " \n",
    "\n"
   ]
  },
  {
   "cell_type": "code",
   "execution_count": null,
   "id": "168ca934-e180-405e-bffc-5a236dc03c2b",
   "metadata": {},
   "outputs": [],
   "source": []
  }
 ],
 "metadata": {
  "kernelspec": {
   "display_name": "Python 3 (ipykernel)",
   "language": "python",
   "name": "python3"
  },
  "language_info": {
   "codemirror_mode": {
    "name": "ipython",
    "version": 3
   },
   "file_extension": ".py",
   "mimetype": "text/x-python",
   "name": "python",
   "nbconvert_exporter": "python",
   "pygments_lexer": "ipython3",
   "version": "3.12.2"
  }
 },
 "nbformat": 4,
 "nbformat_minor": 5
}
