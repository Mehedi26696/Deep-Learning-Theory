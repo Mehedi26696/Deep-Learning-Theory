{
 "cells": [
  {
   "cell_type": "markdown",
   "id": "b7521834-893b-4b99-8c97-fddb00fddb6d",
   "metadata": {},
   "source": [
    "<center><h1 style=\"color:green\">Computer Vision Tasks</h1>"
   ]
  },
  {
   "cell_type": "markdown",
   "id": "5a1ed045-fc27-44bc-9735-9ab2c11c7534",
   "metadata": {},
   "source": [
    "## Image Classification vs Object Detection vs Image Segmentation\n",
    "\n",
    "### 1. Image Classification\n",
    "- Assigns a single label to the entire image.\n",
    "- Does not detect object location.\n",
    "- Example: Given an image of a dog, the model classifies it as \"dog\".\n",
    "- Models: CNNs (ResNet, VGG, MobileNet).\n",
    "\n",
    "### 2. Object Detection\n",
    "- Identifies and localizes multiple objects in an image.\n",
    "- Provides bounding boxes along with class labels.\n",
    "- Example: Detecting cars and pedestrians in a street image.\n",
    "- Models: YOLO, Faster R-CNN, SSD.\n",
    "\n",
    "### 3. Image Segmentation\n",
    "- Classifies each pixel in an image.\n",
    "- Produces a segmentation mask that differentiates between objects and background.\n",
    "- Example: Separating road, cars, and pedestrians in an image.\n",
    "- Models: U-Net, DeepLab, Mask R-CNN.\n",
    "\n",
    "### Comparison Table\n",
    "\n",
    "| Feature               | **Image Classification** | **Object Detection** | **Image Segmentation** |\n",
    "|----------------------|----------------------|------------------|------------------|\n",
    "| **Purpose** | Assigns a label to the entire image | Identifies and localizes multiple objects | Assigns a category to each pixel |\n",
    "| **Output** | A single label (e.g., \"cat\") | Bounding boxes with class labels | Pixel-wise masks |\n",
    "| **Granularity** | Low | Medium | High |\n",
    "| **Example Task** | \"Is this a dog or a cat?\" | \"Where are the cars and pedestrians?\" | \"Which pixels belong to the car, road, or pedestrian?\" |\n",
    "| **Models Used** | CNNs (ResNet, VGG, MobileNet) | YOLO, Faster R-CNN, SSD | U-Net, DeepLab, Mask R-CNN |\n",
    "| **Complexity** | Low | Medium | High |\n",
    "| **Computational Cost** | Low | Medium | High |\n",
    "| **Use Cases** | Spam detection, medical image classification | Autonomous driving, surveillance, retail analytics | Medical imaging (tumor detection), autonomous driving (lane detection) |\n"
   ]
  },
  {
   "cell_type": "markdown",
   "id": "a37ac2e2-3bac-48fd-86c4-daac29575ff9",
   "metadata": {},
   "source": [
    "<img src=\"1.png\">"
   ]
  }
 ],
 "metadata": {
  "kernelspec": {
   "display_name": "Python 3 (ipykernel)",
   "language": "python",
   "name": "python3"
  },
  "language_info": {
   "codemirror_mode": {
    "name": "ipython",
    "version": 3
   },
   "file_extension": ".py",
   "mimetype": "text/x-python",
   "name": "python",
   "nbconvert_exporter": "python",
   "pygments_lexer": "ipython3",
   "version": "3.12.2"
  }
 },
 "nbformat": 4,
 "nbformat_minor": 5
}
